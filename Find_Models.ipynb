{
 "cells": [
  {
   "cell_type": "code",
   "execution_count": 1,
   "metadata": {},
   "outputs": [],
   "source": [
    "from db import db, XResult, CalculatedResult\n",
    "from sqlalchemy.sql import func\n",
    "\n"
   ]
  },
  {
   "cell_type": "code",
   "execution_count": 4,
   "metadata": {
    "scrolled": true
   },
   "outputs": [
    {
     "ename": "NameError",
     "evalue": "name 'Result' is not defined",
     "output_type": "error",
     "traceback": [
      "\u001b[0;31m---------------------------------------------------------------------------\u001b[0m",
      "\u001b[0;31mNameError\u001b[0m                                 Traceback (most recent call last)",
      "\u001b[0;32m<ipython-input-4-82d9b916941a>\u001b[0m in \u001b[0;36m<module>\u001b[0;34m\u001b[0m\n\u001b[0;32m----> 1\u001b[0;31m \u001b[0mquery\u001b[0m \u001b[0;34m=\u001b[0m \u001b[0mdb\u001b[0m\u001b[0;34m.\u001b[0m\u001b[0msession\u001b[0m\u001b[0;34m.\u001b[0m\u001b[0mquery\u001b[0m\u001b[0;34m(\u001b[0m\u001b[0mResult\u001b[0m\u001b[0;34m)\u001b[0m\u001b[0;34m.\u001b[0m\u001b[0mfilter\u001b[0m\u001b[0;34m(\u001b[0m\u001b[0mResult\u001b[0m\u001b[0;34m.\u001b[0m\u001b[0minput_form\u001b[0m \u001b[0;34m==\u001b[0m \u001b[0;34m't1'\u001b[0m\u001b[0;34m)\u001b[0m\u001b[0;34m.\u001b[0m\u001b[0mall\u001b[0m\u001b[0;34m(\u001b[0m\u001b[0;34m)\u001b[0m\u001b[0;34m\u001b[0m\u001b[0;34m\u001b[0m\u001b[0m\n\u001b[0m\u001b[1;32m      2\u001b[0m \u001b[0;34m\u001b[0m\u001b[0m\n\u001b[1;32m      3\u001b[0m \u001b[0;31m#query = db.session.query(Result).filter(Result.description == 'run8', Result.input_form == 't1_post', Result.split == 'e11fcc76-00b9-42ef-89a6-19ae7aef6f27').all()\u001b[0m\u001b[0;34m\u001b[0m\u001b[0;34m\u001b[0m\u001b[0;34m\u001b[0m\u001b[0m\n\u001b[1;32m      4\u001b[0m \u001b[0;34m\u001b[0m\u001b[0m\n\u001b[1;32m      5\u001b[0m \u001b[0;31m#query = db.session.query(Result).filter(Result.description == 'run8', Result.input_form == 't2', Result.split == 'e11fcc76-00b9-42ef-89a6-19ae7aef6f27').all()\u001b[0m\u001b[0;34m\u001b[0m\u001b[0;34m\u001b[0m\u001b[0;34m\u001b[0m\u001b[0m\n",
      "\u001b[0;31mNameError\u001b[0m: name 'Result' is not defined"
     ]
    }
   ],
   "source": [
    "query = db.session.query(Result).filter(Result.input_form == 't1').all()\n",
    "\n",
    "#query = db.session.query(Result).filter(Result.description == 'run8', Result.input_form == 't1_post', Result.split == 'e11fcc76-00b9-42ef-89a6-19ae7aef6f27').all()\n",
    "\n",
    "#query = db.session.query(Result).filter(Result.description == 'run8', Result.input_form == 't2', Result.split == 'e11fcc76-00b9-42ef-89a6-19ae7aef6f27').all()\n",
    "\n",
    "#query = db.session.query(Result).filter(Result.description == 'run8', Result.input_form == 'features', Result.split == 'e11fcc76-00b9-42ef-89a6-19ae7aef6f27').all()\n",
    "\n",
    "for s in query:\n",
    "        print('Date: ' + str(s.created_on) + ' Form ' + str(s.input_form) + ' Description ' + s.description + ' Train: ' + str(s.train_accuracy) + ' Valid: ' + str(s.accuracy) + ' Test: ' + str(s.test_accuracy) + ' Validation Loss: ' + str(s.loss) +' run_id: ' + s.uuid + ' hyperparameters: ' + s.hyperparameters)\n"
   ]
  },
  {
   "cell_type": "code",
   "execution_count": 11,
   "metadata": {},
   "outputs": [
    {
     "name": "stdout",
     "output_type": "stream",
     "text": [
      "Form: 62e0fad6-783f-4453-af2f-a52b241f1188 Date: 2019-11-22 04:53:44.244491 Form t1 Train: 1.0 Valid: 0.7065217365389285 Test: 0.6781609198827853 Fold: 1 run_id: 749b5c82-10f7-4534-bb57-b41f6c408f2f\n",
      "Form: 62e0fad6-783f-4453-af2f-a52b241f1188 Date: 2019-11-22 05:10:33.352664 Form t1 Train: 0.9754098360655737 Valid: 0.6739130434782609 Test: 0.7241379330898153 Fold: 1 run_id: 5da926a7-5a69-4fda-ac0b-d954f46bfe8a\n",
      "Form: 62e0fad6-783f-4453-af2f-a52b241f1188 Date: 2019-11-22 05:30:47.303293 Form t1 Train: 1.0 Valid: 0.6630434782608695 Test: 0.7356321842506014 Fold: 1 run_id: f8239b28-87bc-4b71-8a10-8e5c7a6df9bc\n",
      "Form: 62e0fad6-783f-4453-af2f-a52b241f1188 Date: 2019-11-22 05:53:27.638537 Form t1 Train: 0.9726775956284153 Valid: 0.6956521739130435 Test: 0.7701149445840683 Fold: 1 run_id: 3880d44e-e726-4838-819f-68d3db6af341\n",
      "Form: 62e0fad6-783f-4453-af2f-a52b241f1188 Date: 2019-11-22 06:19:00.058894 Form t1 Train: 0.9972677595628415 Valid: 0.6847826061041459 Test: 0.7586206899977278 Fold: 1 run_id: f7e1e056-5118-41c7-9a18-be258a5c743f\n",
      "Form: 62e0fad6-783f-4453-af2f-a52b241f1188 Date: 2019-11-22 06:46:29.538123 Form t1 Train: 0.7459016396699707 Valid: 0.6956521765045498 Test: 0.7126436802162521 Fold: 1 run_id: caff572a-986b-48fb-967c-c8e0719e2944\n",
      "Form: 62e0fad6-783f-4453-af2f-a52b241f1188 Date: 2019-11-22 07:03:41.033950 Form t1 Train: 0.9699453551912568 Valid: 0.6956521713215372 Test: 0.7241379313770382 Fold: 1 run_id: 527b339b-06dc-4e7a-91ca-1267ee28492c\n",
      "Form: 62e0fad6-783f-4453-af2f-a52b241f1188 Date: 2019-11-22 07:21:19.103098 Form t1 Train: 1.0 Valid: 0.7173913069393324 Test: 0.724137932062149 Fold: 1 run_id: 73ff9edc-16b6-49ef-83e6-bf6398e6854d\n",
      "Form: 62e0fad6-783f-4453-af2f-a52b241f1188 Date: 2019-11-22 07:38:01.366874 Form t1 Train: 0.9289617486338798 Valid: 0.6847826112871584 Test: 0.7241379330898153 Fold: 1 run_id: a76c351e-db78-46fb-af7e-c850c9ee5267\n",
      "Form: 62e0fad6-783f-4453-af2f-a52b241f1188 Date: 2019-11-22 07:56:56.927365 Form t1 Train: 0.994535519125683 Valid: 0.6956521765045498 Test: 0.7356321859633785 Fold: 1 run_id: d6bdc638-f9c4-4a6f-a454-2210942b925b\n",
      "Form: 62e0fad6-783f-4453-af2f-a52b241f1188 Date: 2019-11-22 08:22:58.212895 Form t1 Train: 0.994535519125683 Valid: 0.6521739156349845 Test: 0.6896551727563486 Fold: 1 run_id: 6ed9a82e-76bf-4165-95cb-d97af7076fd8\n",
      "Form: 62e0fad6-783f-4453-af2f-a52b241f1188 Date: 2019-11-22 08:39:53.962097 Form t1 Train: 0.9918032786885246 Valid: 0.6956521713215372 Test: 0.724137932062149 Fold: 1 run_id: 3fa211a8-6279-4a56-ad4c-da0159319f59\n",
      "Form: 62e0fad6-783f-4453-af2f-a52b241f1188 Date: 2019-11-22 08:56:16.444055 Form t1 Train: 0.8770491793507436 Valid: 0.6956521765045498 Test: 0.7356321859633785 Fold: 1 run_id: 7eba38e6-fd53-46b6-a769-8650bec59312\n",
      "Form: 62e0fad6-783f-4453-af2f-a52b241f1188 Date: 2019-11-22 09:15:40.132620 Form t1 Train: 0.9808743169398907 Valid: 0.7499999974084937 Test: 0.6781609198827853 Fold: 1 run_id: eb5a527c-d0c6-4bdf-8cd9-eac78d3a5fb0\n",
      "Form: 62e0fad6-783f-4453-af2f-a52b241f1188 Date: 2019-11-22 09:36:54.096746 Form t1 Train: 0.9972677595628415 Valid: 0.6739130408867545 Test: 0.7586206899977278 Fold: 1 run_id: fc6631f7-a3a9-48ec-aa68-f54c3deca6c5\n",
      "Form: 62e0fad6-783f-4453-af2f-a52b241f1188 Date: 2019-11-22 09:56:54.898938 Form t1 Train: 0.9726775956284153 Valid: 0.6739130408867545 Test: 0.7471264388369417 Fold: 1 run_id: cec1ffd8-3216-4f2c-8baf-8e9c89e63935\n",
      "Form: 62e0fad6-783f-4453-af2f-a52b241f1188 Date: 2019-11-22 10:20:28.126460 Form t1 Train: 0.7103825130097853 Valid: 0.6956521765045498 Test: 0.7241379330898153 Fold: 1 run_id: e09d8826-7a24-4aa8-9ebe-652b706734d6\n",
      "Form: 62e0fad6-783f-4453-af2f-a52b241f1188 Date: 2019-11-22 10:37:35.999515 Form t1 Train: 0.7213114747584192 Valid: 0.6956521765045498 Test: 0.7011494273426889 Fold: 1 run_id: a0af88b3-5b11-4c19-8567-5fcccb5c0862\n",
      "Form: 62e0fad6-783f-4453-af2f-a52b241f1188 Date: 2019-11-22 10:54:42.921323 Form t1 Train: 0.9371584689682299 Valid: 0.6847826086956522 Test: 0.7241379313770382 Fold: 1 run_id: 48cf4700-c84d-45b9-a4ad-63b43e0961e7\n",
      "Form: 62e0fad6-783f-4453-af2f-a52b241f1188 Date: 2019-11-22 11:04:10.092278 Form t1 Train: 0.8278688527847249 Valid: 0.7065217365389285 Test: 0.7471264371241646 Fold: 1 run_id: b9f63915-e7d1-44f7-9179-16738b63198a\n",
      "Form: 62e0fad6-783f-4453-af2f-a52b241f1188 Date: 2019-11-22 11:29:19.135983 Form t1 Train: 0.9562841530054644 Valid: 0.739130437374115 Test: 0.689655173098904 Fold: 2 run_id: 656ee85a-8d02-44b8-ad7c-7d3cebc82c4a\n",
      "Form: 62e0fad6-783f-4453-af2f-a52b241f1188 Date: 2019-11-22 11:47:11.314091 Form t1 Train: 1.0 Valid: 0.7282608669737111 Test: 0.6321839094161987 Fold: 2 run_id: c2a49c27-1f7f-4db1-809f-e15ff2c07cea\n",
      "Form: 62e0fad6-783f-4453-af2f-a52b241f1188 Date: 2019-11-22 12:06:37.054839 Form t1 Train: 0.9890710382513661 Valid: 0.75 Test: 0.6781609209104517 Fold: 2 run_id: ed0bf535-1821-4af8-8bed-78dd4b07b65e\n",
      "Form: 62e0fad6-783f-4453-af2f-a52b241f1188 Date: 2019-11-22 12:23:08.202103 Form t1 Train: 0.9672131147540983 Valid: 0.7391304321911024 Test: 0.6666666673517775 Fold: 2 run_id: 0959e1db-d039-4328-b034-bbd4bea9d413\n",
      "Form: 62e0fad6-783f-4453-af2f-a52b241f1188 Date: 2019-11-22 12:46:40.741266 Form t1 Train: 0.7267759556327361 Valid: 0.6956521765045498 Test: 0.7126436795311413 Fold: 2 run_id: 3d45a6d5-2cbf-4bfb-83a6-a3a2a7d3ecb2\n",
      "Form: 62e0fad6-783f-4453-af2f-a52b241f1188 Date: 2019-11-22 13:06:08.465475 Form t1 Train: 1.0 Valid: 0.7934782634610715 Test: 0.7126436795311413 Fold: 2 run_id: 3c2e732d-e4e3-4955-b961-5141f4418b5a\n",
      "Form: 62e0fad6-783f-4453-af2f-a52b241f1188 Date: 2019-11-22 13:30:38.710055 Form t1 Train: 0.9808743169398907 Valid: 0.7608695652173914 Test: 0.7126436788460304 Fold: 2 run_id: 18288e84-cd2f-4c13-a12d-e70902b76897\n",
      "Form: 62e0fad6-783f-4453-af2f-a52b241f1188 Date: 2019-11-22 13:48:46.713670 Form t1 Train: 0.9836065573770492 Valid: 0.7608695678088976 Test: 0.7356321852782677 Fold: 2 run_id: 60ac97e1-2357-4aae-af61-92a74d7aa9d7\n",
      "Form: 62e0fad6-783f-4453-af2f-a52b241f1188 Date: 2019-11-22 14:11:47.401559 Form t1 Train: 0.9125683050338036 Valid: 0.6956521739130435 Test: 0.7011494266575781 Fold: 2 run_id: a8222639-6c2b-4b09-bf50-c8b2ce584e3b\n",
      "Form: 62e0fad6-783f-4453-af2f-a52b241f1188 Date: 2019-11-22 14:31:53.714687 Form t1 Train: 0.9918032786885246 Valid: 0.7500000025915063 Test: 0.7011494266575781 Fold: 2 run_id: b274562c-cc0e-4e31-94cb-8497333a9531\n",
      "Form: 62e0fad6-783f-4453-af2f-a52b241f1188 Date: 2019-11-22 14:55:08.410628 Form t1 Train: 0.9316939880939129 Valid: 0.706521741721941 Test: 0.7011494259724672 Fold: 2 run_id: 863850ee-6e05-41e3-a82a-176744b12384\n",
      "Form: 62e0fad6-783f-4453-af2f-a52b241f1188 Date: 2019-11-22 15:16:12.590129 Form t1 Train: 0.9808743169398907 Valid: 0.7282608695652174 Test: 0.7126436795311413 Fold: 2 run_id: a91a4a45-6978-4822-9f33-f8816c284ea1\n",
      "Form: 62e0fad6-783f-4453-af2f-a52b241f1188 Date: 2019-11-22 15:35:29.981524 Form t1 Train: 0.9972677595628415 Valid: 0.760869562625885 Test: 0.7241379317195936 Fold: 2 run_id: 016967d4-c989-4d4b-88a6-c541ef7a5162\n",
      "Form: 62e0fad6-783f-4453-af2f-a52b241f1188 Date: 2019-11-22 16:02:51.006116 Form t1 Train: 0.9726775956284153 Valid: 0.717391304347826 Test: 0.7126436788460304 Fold: 2 run_id: 5f5615bc-4d9f-49f6-8def-83a479dc3041\n",
      "Form: 62e0fad6-783f-4453-af2f-a52b241f1188 Date: 2019-11-22 16:22:36.548584 Form t1 Train: 0.9972677595628415 Valid: 0.7717391330262889 Test: 0.7586206903402832 Fold: 2 run_id: ba191ab5-30f4-4b53-9240-762b60a060c5\n",
      "Form: 62e0fad6-783f-4453-af2f-a52b241f1188 Date: 2019-11-22 16:47:54.482977 Form t1 Train: 1.0 Valid: 0.7391304321911024 Test: 0.7241379324047045 Fold: 2 run_id: 48127afe-2a87-4458-b653-462eebd4e73d\n",
      "Form: 62e0fad6-783f-4453-af2f-a52b241f1188 Date: 2019-11-22 17:10:12.914812 Form t1 Train: 0.9972677595628415 Valid: 0.7717391304347826 Test: 0.7241379324047045 Fold: 2 run_id: 78cac51f-056f-4a26-9200-81259d0e769d\n",
      "Form: 62e0fad6-783f-4453-af2f-a52b241f1188 Date: 2019-11-22 17:21:36.915287 Form t1 Train: 0.9808743169398907 Valid: 0.782608695652174 Test: 0.7241379317195936 Fold: 2 run_id: d55364a8-6f78-4971-b961-f6deeea3a6c9\n",
      "Form: 62e0fad6-783f-4453-af2f-a52b241f1188 Date: 2019-11-22 17:38:05.782729 Form t1 Train: 0.9808743169398907 Valid: 0.7173913069393324 Test: 0.7126436788460304 Fold: 2 run_id: ca9d72ea-fbf2-4345-86d4-5b787e9b709e\n",
      "Form: 62e0fad6-783f-4453-af2f-a52b241f1188 Date: 2019-11-22 17:52:11.916306 Form t1 Train: 0.953551912568306 Valid: 0.7065217391304348 Test: 0.7126436795311413 Fold: 2 run_id: 9d47118f-8ec0-40bc-8c41-b413c8aef450\n",
      "Form: 62e0fad6-783f-4453-af2f-a52b241f1188 Date: 2019-11-22 18:14:03.385839 Form t1 Train: 0.9346049049569736 Valid: 0.6956521765045498 Test: 0.7209302325581395 Fold: 3 run_id: 0bf62dfc-7e59-4631-8257-dec72f5d1488\n",
      "Form: 62e0fad6-783f-4453-af2f-a52b241f1188 Date: 2019-11-22 18:38:51.289350 Form t1 Train: 0.9155313351498637 Valid: 0.6956521765045498 Test: 0.7325581395348837 Fold: 3 run_id: 11164ba8-c39b-43b0-8524-7197c8749fa5\n",
      "Form: 62e0fad6-783f-4453-af2f-a52b241f1188 Date: 2019-11-22 18:57:52.187783 Form t1 Train: 0.9591280655575058 Valid: 0.7391304321911024 Test: 0.7209302325581395 Fold: 3 run_id: ebdf8a20-40c9-4185-8b9b-16aa568d8332\n",
      "Form: 62e0fad6-783f-4453-af2f-a52b241f1188 Date: 2019-11-22 19:20:59.454761 Form t1 Train: 0.9073569485537037 Valid: 0.7065217365389285 Test: 0.7325581395348837 Fold: 3 run_id: 4234deb9-5df3-4bcd-9392-d4a25b3512ad\n",
      "Form: 62e0fad6-783f-4453-af2f-a52b241f1188 Date: 2019-11-22 19:36:29.126517 Form t1 Train: 1.0 Valid: 0.7391304347826086 Test: 0.7558139534883721 Fold: 3 run_id: 42d0a0e5-d1a4-4d62-8c3c-b85e79630dd1\n",
      "Form: 62e0fad6-783f-4453-af2f-a52b241f1188 Date: 2019-11-22 19:58:47.259021 Form t1 Train: 0.997275204359673 Valid: 0.7499999974084937 Test: 0.7790697674418605 Fold: 3 run_id: 03aac7c0-e157-490c-b1e9-c3593abba9e2\n",
      "Form: 62e0fad6-783f-4453-af2f-a52b241f1188 Date: 2019-11-22 20:26:31.790927 Form t1 Train: 0.6893732978147772 Valid: 0.6956521765045498 Test: 0.7209302325581395 Fold: 3 run_id: 84a158db-e8ca-4e6d-b7e7-0a108adf8497\n",
      "Form: 62e0fad6-783f-4453-af2f-a52b241f1188 Date: 2019-11-22 20:46:18.227063 Form t1 Train: 0.7983651227782143 Valid: 0.6956521765045498 Test: 0.7209302325581395 Fold: 3 run_id: 8c825233-f080-4b90-9dc8-2f37a74eeef6\n",
      "Form: 62e0fad6-783f-4453-af2f-a52b241f1188 Date: 2019-11-22 21:07:29.897502 Form t1 Train: 0.9945504087193461 Valid: 0.6847826061041459 Test: 0.7441860465116279 Fold: 3 run_id: df29eb93-80c2-4306-9dd0-8ae9ba258efb\n",
      "Form: 62e0fad6-783f-4453-af2f-a52b241f1188 Date: 2019-11-22 21:25:22.183630 Form t1 Train: 1.0 Valid: 0.6630434782608695 Test: 0.813953488372093 Fold: 3 run_id: f93145ea-f222-44b8-ab78-097975ac65c7\n",
      "Form: 62e0fad6-783f-4453-af2f-a52b241f1188 Date: 2019-11-22 21:52:53.450570 Form t1 Train: 0.7411444146561688 Valid: 0.6956521765045498 Test: 0.7209302325581395 Fold: 3 run_id: d88b5d69-adec-4aed-a47d-8e6cb69ae795\n",
      "Form: 62e0fad6-783f-4453-af2f-a52b241f1188 Date: 2019-11-22 22:10:02.287270 Form t1 Train: 1.0 Valid: 0.717391304347826 Test: 0.720930231171985 Fold: 3 run_id: 17db0dbf-edc7-4b79-83e8-d9a1123c3509\n",
      "Form: 62e0fad6-783f-4453-af2f-a52b241f1188 Date: 2019-11-22 22:21:03.844716 Form t1 Train: 0.9700272479564033 Valid: 0.7065217391304348 Test: 0.7558139534883721 Fold: 3 run_id: e81219d5-ea4a-496f-b2a4-149433a109f5\n",
      "Form: 62e0fad6-783f-4453-af2f-a52b241f1188 Date: 2019-11-22 22:44:27.450316 Form t1 Train: 0.9727520435967303 Valid: 0.7065217391304348 Test: 0.7209302325581395 Fold: 3 run_id: be3a375f-fec6-40ac-b424-116aa67b89b4\n",
      "Form: 62e0fad6-783f-4453-af2f-a52b241f1188 Date: 2019-11-22 23:11:56.263842 Form t1 Train: 0.9945504088817565 Valid: 0.717391304347826 Test: 0.7325581395348837 Fold: 3 run_id: e8f7ce6d-b5bd-490e-876b-ec49f7dbdea7\n",
      "Form: 62e0fad6-783f-4453-af2f-a52b241f1188 Date: 2019-11-22 23:39:40.431857 Form t1 Train: 1.0 Valid: 0.739130437374115 Test: 0.7558139534883721 Fold: 3 run_id: 80f02773-2aba-48df-8cff-17d66f13d229\n",
      "Form: 62e0fad6-783f-4453-af2f-a52b241f1188 Date: 2019-11-23 00:03:05.474986 Form t1 Train: 1.0 Valid: 0.7499999974084937 Test: 0.7441860465116279 Fold: 3 run_id: 03b0e9d8-15e4-4c7d-8c83-c3c1795780c9\n",
      "Form: 62e0fad6-783f-4453-af2f-a52b241f1188 Date: 2019-11-23 00:23:04.217400 Form t1 Train: 0.9782016348773842 Valid: 0.706521741721941 Test: 0.7441860465116279 Fold: 3 run_id: 7521c3a8-c1cb-42f9-bd9b-b3150ecbf4f6\n",
      "Form: 62e0fad6-783f-4453-af2f-a52b241f1188 Date: 2019-11-23 00:41:22.345889 Form t1 Train: 0.9536784742768519 Valid: 0.6847826112871584 Test: 0.7325581395348837 Fold: 3 run_id: 8cd88413-8c4a-47ce-a15b-3189e235c02b\n",
      "Form: 62e0fad6-783f-4453-af2f-a52b241f1188 Date: 2019-11-23 01:03:17.014104 Form t1 Train: 0.9536784741144414 Valid: 0.6956521739130435 Test: 0.7325581395348837 Fold: 3 run_id: db483acb-8e80-46d5-8dfa-6ef3e6ce9f5b\n",
      "Form: 62e0fad6-783f-4453-af2f-a52b241f1188 Date: 2019-11-23 01:29:41.064973 Form t1 Train: 0.8940217391304348 Valid: 0.6739130460697672 Test: 0.7294117647058823 Fold: 4 run_id: ba54926a-e605-4b62-83aa-6cb964360a81\n",
      "Form: 62e0fad6-783f-4453-af2f-a52b241f1188 Date: 2019-11-23 01:53:07.533617 Form t1 Train: 0.8994565217391305 Valid: 0.7065217365389285 Test: 0.7294117647058823 Fold: 4 run_id: 9e76a6a2-15c2-4943-a373-7aa607e0b1e8\n",
      "Form: 62e0fad6-783f-4453-af2f-a52b241f1188 Date: 2019-11-23 02:09:49.146441 Form t1 Train: 0.9918478260869565 Valid: 0.6847826086956522 Test: 0.7411764705882353 Fold: 4 run_id: 498bf7c7-f0e3-425f-816f-94449f50def8\n",
      "Form: 62e0fad6-783f-4453-af2f-a52b241f1188 Date: 2019-11-23 02:34:42.022646 Form t1 Train: 1.0 Valid: 0.6956521765045498 Test: 0.7294117647058823 Fold: 4 run_id: 3d1819b6-a4fc-4b6d-a238-6195c20608e3\n",
      "Form: 62e0fad6-783f-4453-af2f-a52b241f1188 Date: 2019-11-23 03:01:29.571040 Form t1 Train: 1.0 Valid: 0.7173913017563198 Test: 0.7411764705882353 Fold: 4 run_id: 7523a2a4-de82-4d0e-a31d-63bb78291a18\n",
      "Form: 62e0fad6-783f-4453-af2f-a52b241f1188 Date: 2019-11-23 03:20:56.599270 Form t1 Train: 0.9864130434782609 Valid: 0.6847826112871584 Test: 0.7647058823529411 Fold: 4 run_id: 6a980d86-8192-4461-a040-a8657c5dd044\n",
      "Form: 62e0fad6-783f-4453-af2f-a52b241f1188 Date: 2019-11-23 03:35:08.521494 Form t1 Train: 0.9320652173913043 Valid: 0.7065217391304348 Test: 0.7411764705882353 Fold: 4 run_id: c0155296-ab1d-43b2-ab1b-05bd79b6eabb\n",
      "Form: 62e0fad6-783f-4453-af2f-a52b241f1188 Date: 2019-11-23 03:54:16.311005 Form t1 Train: 0.9864130434782609 Valid: 0.7065217391304348 Test: 0.7294117647058823 Fold: 4 run_id: 4ebc2946-77aa-4465-9097-644c9ab59020\n",
      "Form: 62e0fad6-783f-4453-af2f-a52b241f1188 Date: 2019-11-23 04:04:09.178360 Form t1 Train: 0.9375 Valid: 0.7065217365389285 Test: 0.7529411764705882 Fold: 4 run_id: e34e64b4-b957-4034-9935-b5c97e9fbc93\n",
      "Form: 62e0fad6-783f-4453-af2f-a52b241f1188 Date: 2019-11-23 04:18:58.549512 Form t1 Train: 0.9891304347826086 Valid: 0.717391304347826 Test: 0.7176470588235294 Fold: 4 run_id: 768ec8bf-c31e-44c8-8ec1-a704e0961170\n",
      "Form: 62e0fad6-783f-4453-af2f-a52b241f1188 Date: 2019-11-23 04:33:53.395908 Form t1 Train: 0.8288043478260869 Valid: 0.7065217391304348 Test: 0.7294117647058823 Fold: 4 run_id: f4792cda-2809-4afd-8625-063594f91dbd\n",
      "Form: 62e0fad6-783f-4453-af2f-a52b241f1188 Date: 2019-11-23 04:48:39.535124 Form t1 Train: 0.9864130434782609 Valid: 0.7173913017563198 Test: 0.7529411764705882 Fold: 4 run_id: 4c5ffcd5-cef8-4e4f-ac23-cf2f8102cc65\n",
      "Form: 62e0fad6-783f-4453-af2f-a52b241f1188 Date: 2019-11-23 05:05:22.557189 Form t1 Train: 0.9972826086956522 Valid: 0.7173913017563198 Test: 0.7764705882352941 Fold: 4 run_id: b0bd4f23-4730-4c2d-b60b-9068ae3d6f7f\n",
      "Form: 62e0fad6-783f-4453-af2f-a52b241f1188 Date: 2019-11-23 05:24:23.440682 Form t1 Train: 0.9728260869565217 Valid: 0.706521741721941 Test: 0.7058823536424076 Fold: 4 run_id: 8898a76f-7694-467c-be4c-8c8f9942b81c\n",
      "Form: 62e0fad6-783f-4453-af2f-a52b241f1188 Date: 2019-11-23 05:41:39.613850 Form t1 Train: 0.9918478260869565 Valid: 0.6847826086956522 Test: 0.7411764712894664 Fold: 4 run_id: 4e44599c-47ac-4099-bf74-1fadd9ed7ced\n",
      "Form: 62e0fad6-783f-4453-af2f-a52b241f1188 Date: 2019-11-23 06:00:31.702038 Form t1 Train: 0.9918478260869565 Valid: 0.6956521739130435 Test: 0.7647058823529411 Fold: 4 run_id: a6987474-3301-4b3d-8454-588afd99be76\n",
      "Form: 62e0fad6-783f-4453-af2f-a52b241f1188 Date: 2019-11-23 06:27:59.420813 Form t1 Train: 0.9347826086956522 Valid: 0.6956521765045498 Test: 0.7294117647058823 Fold: 4 run_id: a8229d9d-0582-4cce-9e57-c52b7c7f26ed\n",
      "Form: 62e0fad6-783f-4453-af2f-a52b241f1188 Date: 2019-11-23 06:44:17.617292 Form t1 Train: 1.0 Valid: 0.7065217365389285 Test: 0.7294117654071135 Fold: 4 run_id: 8f03c1ab-676e-4e53-baed-d9f9fa5cbaa1\n",
      "Form: 62e0fad6-783f-4453-af2f-a52b241f1188 Date: 2019-11-23 07:11:03.738535 Form t1 Train: 1.0 Valid: 0.6630434756693633 Test: 0.7764705882352941 Fold: 4 run_id: 99b6fdbd-b6ca-4e25-8bc8-344db264b9a2\n",
      "Form: 62e0fad6-783f-4453-af2f-a52b241f1188 Date: 2019-11-23 07:32:30.459345 Form t1 Train: 0.9945652173913043 Valid: 0.7065217391304348 Test: 0.7176470588235294 Fold: 4 run_id: bafa1fa5-b3c9-4819-a709-cd253ec6d42c\n"
     ]
    }
   ],
   "source": [
    "#query = db.session.query(XResult).all()\n",
    "\n",
    "query = db.session.query(XResult).filter(XResult.input_form == 't1').all()\n",
    "for s in query:\n",
    "    print('Form: ' + str(s.split) + ' Date: ' + str(s.created_on) + ' Form ' + str(s.input_form) + ' Train: ' + str(s.train_accuracy) + ' Valid: ' + str(s.accuracy) + ' Test: ' + str(s.test_accuracy) + ' Fold: ' + str(s.fold) + ' run_id: ' + s.run_id)"
   ]
  },
  {
   "cell_type": "code",
   "execution_count": null,
   "metadata": {},
   "outputs": [],
   "source": []
  },
  {
   "cell_type": "code",
   "execution_count": null,
   "metadata": {},
   "outputs": [],
   "source": []
  }
 ],
 "metadata": {
  "kernelspec": {
   "display_name": "Python 3",
   "language": "python",
   "name": "python3"
  },
  "language_info": {
   "codemirror_mode": {
    "name": "ipython",
    "version": 3
   },
   "file_extension": ".py",
   "mimetype": "text/x-python",
   "name": "python",
   "nbconvert_exporter": "python",
   "pygments_lexer": "ipython3",
   "version": "3.6.7"
  }
 },
 "nbformat": 4,
 "nbformat_minor": 2
}
