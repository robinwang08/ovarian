{
 "cells": [
  {
   "cell_type": "code",
   "execution_count": 1,
   "metadata": {},
   "outputs": [],
   "source": [
    "%load_ext autoreload\n",
    "%autoreload 2\n",
    "%matplotlib inline  "
   ]
  },
  {
   "cell_type": "code",
   "execution_count": 1,
   "metadata": {},
   "outputs": [
    {
     "name": "stderr",
     "output_type": "stream",
     "text": [
      "Using TensorFlow backend.\n"
     ]
    }
   ],
   "source": [
    "from config import config\n",
    "import pandas\n",
    "import seaborn\n",
    "import numpy as np\n",
    "import scipy\n",
    "import matplotlib.pyplot as plt\n",
    "import papermill as pm\n",
    "from stacked_data import stacked_data, stacked_single\n",
    "from tqdm import tqdm\n",
    "from sklearn.ensemble import ExtraTreesClassifier, AdaBoostClassifier, BaggingClassifier, GradientBoostingClassifier, IsolationForest, RandomForestClassifier, VotingClassifier\n",
    "from sklearn import metrics\n",
    "\n",
    "from evaluate import calculate_confusion_matrix_stats, plot_roc_curve, plot_precision_recall, plot_confusion_matrix_ensemble"
   ]
  },
  {
   "cell_type": "markdown",
   "metadata": {},
   "source": [
    "# Ensemble models"
   ]
  },
  {
   "cell_type": "code",
   "execution_count": 2,
   "metadata": {
    "scrolled": true,
    "tags": [
     "parameters"
    ]
   },
   "outputs": [],
   "source": [
    "MODELS = [    \n",
    "    \"5d1d4156-ee5a-49ff-87cf-ad4a11be8aef\", # t1\n",
    "    \"47cf8213-5aca-4e1f-b2ba-8dbf4aac7830\", # t2\n",
    "    \"b0fb56eb-f2fa-4a5a-bd76-297ec64a371e\", # features\n",
    "]\n",
    "SCORE = \"accuracy\""
   ]
  },
  {
   "cell_type": "code",
   "execution_count": 3,
   "metadata": {
    "scrolled": true
   },
   "outputs": [
    {
     "name": "stdout",
     "output_type": "stream",
     "text": [
      "models: ['5d1d4156-ee5a-49ff-87cf-ad4a11be8aef', '47cf8213-5aca-4e1f-b2ba-8dbf4aac7830', 'b0fb56eb-f2fa-4a5a-bd76-297ec64a371e']\n"
     ]
    }
   ],
   "source": [
    "models = MODELS\n",
    "print(\"models: {}\".format(models))"
   ]
  },
  {
   "cell_type": "code",
   "execution_count": 4,
   "metadata": {
    "scrolled": true
   },
   "outputs": [
    {
     "name": "stderr",
     "output_type": "stream",
     "text": [
      " 47%|████▋     | 51/108 [00:25<00:35,  1.62it/s]"
     ]
    },
    {
     "name": "stdout",
     "output_type": "stream",
     "text": [
      "\n",
      "################################################################################\n",
      "Exception occurred for: patient    Kidney-HP-001\n",
      "volume       0.000229797\n",
      "outcome        malignant\n",
      "age             0.821918\n",
      "sex                    0\n",
      "sort          unassigned\n",
      "Name: Kidney-HP-001, dtype: object\n",
      "[Errno 2] No such file or directory: '/data/intrepidlemon/renal/extra-segmentations/segmenter-3/Kidney-HP-001-T1C-imagingVolume.nrrd'\n",
      "Traceback (most recent call last):\n",
      "  File \"/home/user1/intrepidlemon/renal-mri/data.py\", line 279, in generate_from_features\n",
      "    t1_masked = load_image(t1_image_file, t1_seg_file, verbose=verbose)\n",
      "  File \"/home/user1/intrepidlemon/renal-mri/data.py\", line 240, in load_image\n",
      "    image, _ = nrrd.read(image_path)\n",
      "  File \"/home/user1/.local/share/virtualenvs/renal-mri-NanAjWL7/lib/python3.6/site-packages/nrrd/reader.py\", line 427, in read\n",
      "    with open(filename, 'rb') as fh:\n",
      "FileNotFoundError: [Errno 2] No such file or directory: '/data/intrepidlemon/renal/extra-segmentations/segmenter-3/Kidney-HP-001-T1C-imagingVolume.nrrd'\n",
      "\n"
     ]
    },
    {
     "name": "stderr",
     "output_type": "stream",
     "text": [
      " 55%|█████▍    | 59/108 [00:30<00:30,  1.62it/s]"
     ]
    },
    {
     "name": "stdout",
     "output_type": "stream",
     "text": [
      "\n",
      "################################################################################\n",
      "Exception occurred for: patient    Kidney-Mayo-024\n",
      "volume         4.40363e-06\n",
      "outcome             benign\n",
      "age               0.534247\n",
      "sex                      0\n",
      "sort            unassigned\n",
      "Name: Kidney-Mayo-024, dtype: object\n",
      "[Errno 2] No such file or directory: '/data/intrepidlemon/renal/extra-segmentations/segmenter-3/Kidney-Mayo-024-T1C-imagingVolume.nrrd'\n",
      "Traceback (most recent call last):\n",
      "  File \"/home/user1/intrepidlemon/renal-mri/data.py\", line 279, in generate_from_features\n",
      "    t1_masked = load_image(t1_image_file, t1_seg_file, verbose=verbose)\n",
      "  File \"/home/user1/intrepidlemon/renal-mri/data.py\", line 240, in load_image\n",
      "    image, _ = nrrd.read(image_path)\n",
      "  File \"/home/user1/.local/share/virtualenvs/renal-mri-NanAjWL7/lib/python3.6/site-packages/nrrd/reader.py\", line 427, in read\n",
      "    with open(filename, 'rb') as fh:\n",
      "FileNotFoundError: [Errno 2] No such file or directory: '/data/intrepidlemon/renal/extra-segmentations/segmenter-3/Kidney-Mayo-024-T1C-imagingVolume.nrrd'\n",
      "\n"
     ]
    },
    {
     "name": "stderr",
     "output_type": "stream",
     "text": [
      " 66%|██████▌   | 71/108 [00:36<00:32,  1.15it/s]"
     ]
    },
    {
     "name": "stdout",
     "output_type": "stream",
     "text": [
      "\n",
      "################################################################################\n",
      "Exception occurred for: patient    Kidney-TCGA-037\n",
      "volume          0.00373767\n",
      "outcome          malignant\n",
      "age               0.534247\n",
      "sex                      0\n",
      "sort            unassigned\n",
      "Name: Kidney-TCGA-037, dtype: object\n",
      "[Errno 2] No such file or directory: '/data/intrepidlemon/renal/extra-segmentations/segmenter-3/Kidney-TCGA-037-T1C-imagingVolume.nrrd'\n",
      "Traceback (most recent call last):\n",
      "  File \"/home/user1/intrepidlemon/renal-mri/data.py\", line 279, in generate_from_features\n",
      "    t1_masked = load_image(t1_image_file, t1_seg_file, verbose=verbose)\n",
      "  File \"/home/user1/intrepidlemon/renal-mri/data.py\", line 240, in load_image\n",
      "    image, _ = nrrd.read(image_path)\n",
      "  File \"/home/user1/.local/share/virtualenvs/renal-mri-NanAjWL7/lib/python3.6/site-packages/nrrd/reader.py\", line 427, in read\n",
      "    with open(filename, 'rb') as fh:\n",
      "FileNotFoundError: [Errno 2] No such file or directory: '/data/intrepidlemon/renal/extra-segmentations/segmenter-3/Kidney-TCGA-037-T1C-imagingVolume.nrrd'\n",
      "\n"
     ]
    },
    {
     "name": "stderr",
     "output_type": "stream",
     "text": [
      "100%|██████████| 108/108 [00:54<00:00,  1.97it/s]\n",
      " 48%|████▊     | 52/108 [00:12<00:13,  4.27it/s]"
     ]
    },
    {
     "name": "stdout",
     "output_type": "stream",
     "text": [
      "\n",
      "################################################################################\n",
      "Exception occurred for: patient    Kidney-HP-001\n",
      "volume       0.000229797\n",
      "outcome        malignant\n",
      "age             0.821918\n",
      "sex                    0\n",
      "sort          unassigned\n",
      "Name: Kidney-HP-001, dtype: object\n",
      "[Errno 2] No such file or directory: '/data/intrepidlemon/renal/extra-segmentations/segmenter-3/Kidney-HP-001-T2WI-imagingVolume.nrrd'\n",
      "Traceback (most recent call last):\n",
      "  File \"/home/user1/intrepidlemon/renal-mri/data.py\", line 283, in generate_from_features\n",
      "    t2_masked = load_image(t2_image_file, t2_seg_file, verbose=verbose)\n",
      "  File \"/home/user1/intrepidlemon/renal-mri/data.py\", line 240, in load_image\n",
      "    image, _ = nrrd.read(image_path)\n",
      "  File \"/home/user1/.local/share/virtualenvs/renal-mri-NanAjWL7/lib/python3.6/site-packages/nrrd/reader.py\", line 427, in read\n",
      "    with open(filename, 'rb') as fh:\n",
      "FileNotFoundError: [Errno 2] No such file or directory: '/data/intrepidlemon/renal/extra-segmentations/segmenter-3/Kidney-HP-001-T2WI-imagingVolume.nrrd'\n",
      "\n"
     ]
    },
    {
     "name": "stderr",
     "output_type": "stream",
     "text": [
      " 55%|█████▍    | 59/108 [00:14<00:19,  2.48it/s]"
     ]
    },
    {
     "name": "stdout",
     "output_type": "stream",
     "text": [
      "\n",
      "################################################################################\n",
      "Exception occurred for: patient    Kidney-Mayo-024\n",
      "volume         4.40363e-06\n",
      "outcome             benign\n",
      "age               0.534247\n",
      "sex                      0\n",
      "sort            unassigned\n",
      "Name: Kidney-Mayo-024, dtype: object\n",
      "[Errno 2] No such file or directory: '/data/intrepidlemon/renal/extra-segmentations/segmenter-3/Kidney-Mayo-024-T2WI-imagingVolume.nrrd'\n",
      "Traceback (most recent call last):\n",
      "  File \"/home/user1/intrepidlemon/renal-mri/data.py\", line 283, in generate_from_features\n",
      "    t2_masked = load_image(t2_image_file, t2_seg_file, verbose=verbose)\n",
      "  File \"/home/user1/intrepidlemon/renal-mri/data.py\", line 240, in load_image\n",
      "    image, _ = nrrd.read(image_path)\n",
      "  File \"/home/user1/.local/share/virtualenvs/renal-mri-NanAjWL7/lib/python3.6/site-packages/nrrd/reader.py\", line 427, in read\n",
      "    with open(filename, 'rb') as fh:\n",
      "FileNotFoundError: [Errno 2] No such file or directory: '/data/intrepidlemon/renal/extra-segmentations/segmenter-3/Kidney-Mayo-024-T2WI-imagingVolume.nrrd'\n",
      "\n"
     ]
    },
    {
     "name": "stderr",
     "output_type": "stream",
     "text": [
      " 66%|██████▌   | 71/108 [00:16<00:08,  4.21it/s]"
     ]
    },
    {
     "name": "stdout",
     "output_type": "stream",
     "text": [
      "\n",
      "################################################################################\n",
      "Exception occurred for: patient    Kidney-TCGA-037\n",
      "volume          0.00373767\n",
      "outcome          malignant\n",
      "age               0.534247\n",
      "sex                      0\n",
      "sort            unassigned\n",
      "Name: Kidney-TCGA-037, dtype: object\n",
      "[Errno 2] No such file or directory: '/data/intrepidlemon/renal/extra-segmentations/segmenter-3/Kidney-TCGA-037-T2WI-imagingVolume.nrrd'\n",
      "Traceback (most recent call last):\n",
      "  File \"/home/user1/intrepidlemon/renal-mri/data.py\", line 283, in generate_from_features\n",
      "    t2_masked = load_image(t2_image_file, t2_seg_file, verbose=verbose)\n",
      "  File \"/home/user1/intrepidlemon/renal-mri/data.py\", line 240, in load_image\n",
      "    image, _ = nrrd.read(image_path)\n",
      "  File \"/home/user1/.local/share/virtualenvs/renal-mri-NanAjWL7/lib/python3.6/site-packages/nrrd/reader.py\", line 427, in read\n",
      "    with open(filename, 'rb') as fh:\n",
      "FileNotFoundError: [Errno 2] No such file or directory: '/data/intrepidlemon/renal/extra-segmentations/segmenter-3/Kidney-TCGA-037-T2WI-imagingVolume.nrrd'\n",
      "\n"
     ]
    },
    {
     "name": "stderr",
     "output_type": "stream",
     "text": [
      "100%|██████████| 108/108 [00:22<00:00,  4.70it/s]\n",
      " 47%|████▋     | 51/108 [00:19<00:35,  1.60it/s]"
     ]
    },
    {
     "name": "stdout",
     "output_type": "stream",
     "text": [
      "\n",
      "################################################################################\n",
      "Exception occurred for: patient    Kidney-HP-001\n",
      "volume       0.000229797\n",
      "outcome        malignant\n",
      "age             0.821918\n",
      "sex                    0\n",
      "sort          unassigned\n",
      "Name: Kidney-HP-001, dtype: object\n",
      "[Errno 2] No such file or directory: '/data/intrepidlemon/renal/extra-segmentations/segmenter-3/Kidney-HP-001-T1C-imagingVolume.nrrd'\n",
      "Traceback (most recent call last):\n",
      "  File \"/home/user1/intrepidlemon/renal-mri/data.py\", line 279, in generate_from_features\n",
      "    t1_masked = load_image(t1_image_file, t1_seg_file, verbose=verbose)\n",
      "  File \"/home/user1/intrepidlemon/renal-mri/data.py\", line 240, in load_image\n",
      "    image, _ = nrrd.read(image_path)\n",
      "  File \"/home/user1/.local/share/virtualenvs/renal-mri-NanAjWL7/lib/python3.6/site-packages/nrrd/reader.py\", line 427, in read\n",
      "    with open(filename, 'rb') as fh:\n",
      "FileNotFoundError: [Errno 2] No such file or directory: '/data/intrepidlemon/renal/extra-segmentations/segmenter-3/Kidney-HP-001-T1C-imagingVolume.nrrd'\n",
      "\n"
     ]
    },
    {
     "name": "stderr",
     "output_type": "stream",
     "text": [
      " 55%|█████▍    | 59/108 [00:23<00:30,  1.60it/s]"
     ]
    },
    {
     "name": "stdout",
     "output_type": "stream",
     "text": [
      "\n",
      "################################################################################\n",
      "Exception occurred for: patient    Kidney-Mayo-024\n",
      "volume         4.40363e-06\n",
      "outcome             benign\n",
      "age               0.534247\n",
      "sex                      0\n",
      "sort            unassigned\n",
      "Name: Kidney-Mayo-024, dtype: object\n",
      "[Errno 2] No such file or directory: '/data/intrepidlemon/renal/extra-segmentations/segmenter-3/Kidney-Mayo-024-T1C-imagingVolume.nrrd'\n",
      "Traceback (most recent call last):\n",
      "  File \"/home/user1/intrepidlemon/renal-mri/data.py\", line 279, in generate_from_features\n",
      "    t1_masked = load_image(t1_image_file, t1_seg_file, verbose=verbose)\n",
      "  File \"/home/user1/intrepidlemon/renal-mri/data.py\", line 240, in load_image\n",
      "    image, _ = nrrd.read(image_path)\n",
      "  File \"/home/user1/.local/share/virtualenvs/renal-mri-NanAjWL7/lib/python3.6/site-packages/nrrd/reader.py\", line 427, in read\n",
      "    with open(filename, 'rb') as fh:\n",
      "FileNotFoundError: [Errno 2] No such file or directory: '/data/intrepidlemon/renal/extra-segmentations/segmenter-3/Kidney-Mayo-024-T1C-imagingVolume.nrrd'\n",
      "\n"
     ]
    },
    {
     "name": "stderr",
     "output_type": "stream",
     "text": [
      " 66%|██████▌   | 71/108 [00:28<00:26,  1.42it/s]"
     ]
    },
    {
     "name": "stdout",
     "output_type": "stream",
     "text": [
      "\n",
      "################################################################################\n",
      "Exception occurred for: patient    Kidney-TCGA-037\n",
      "volume          0.00373767\n",
      "outcome          malignant\n",
      "age               0.534247\n",
      "sex                      0\n",
      "sort            unassigned\n",
      "Name: Kidney-TCGA-037, dtype: object\n",
      "[Errno 2] No such file or directory: '/data/intrepidlemon/renal/extra-segmentations/segmenter-3/Kidney-TCGA-037-T1C-imagingVolume.nrrd'\n",
      "Traceback (most recent call last):\n",
      "  File \"/home/user1/intrepidlemon/renal-mri/data.py\", line 279, in generate_from_features\n",
      "    t1_masked = load_image(t1_image_file, t1_seg_file, verbose=verbose)\n",
      "  File \"/home/user1/intrepidlemon/renal-mri/data.py\", line 240, in load_image\n",
      "    image, _ = nrrd.read(image_path)\n",
      "  File \"/home/user1/.local/share/virtualenvs/renal-mri-NanAjWL7/lib/python3.6/site-packages/nrrd/reader.py\", line 427, in read\n",
      "    with open(filename, 'rb') as fh:\n",
      "FileNotFoundError: [Errno 2] No such file or directory: '/data/intrepidlemon/renal/extra-segmentations/segmenter-3/Kidney-TCGA-037-T1C-imagingVolume.nrrd'\n",
      "\n"
     ]
    },
    {
     "name": "stderr",
     "output_type": "stream",
     "text": [
      "100%|██████████| 108/108 [00:42<00:00,  2.56it/s]\n",
      "100%|██████████| 110/110 [00:54<00:00,  2.03it/s]\n",
      "100%|██████████| 110/110 [00:23<00:00,  4.61it/s]\n",
      "100%|██████████| 110/110 [00:47<00:00,  2.32it/s]\n"
     ]
    }
   ],
   "source": [
    "test_1_set, test_1_labels, test_1_dataset = stacked_single(\n",
    "    models, \n",
    "    pickle=\"/data/intrepidlemon/renal/features/segmenter-3/training-features.pkl\", \n",
    "    source=\"/data/intrepidlemon/renal/extra-segmentations/segmenter-3/\"\n",
    ")\n",
    "test_2_set, test_2_labels, test_2_dataset = stacked_single(\n",
    "    models, \n",
    "    pickle=\"/data/intrepidlemon/renal/features/segmenter-4/training-features.pkl\", \n",
    "    source=\"/data/intrepidlemon/renal/extra-segmentations/segmenter-4/\"\n",
    ")\n",
    "test_1_set = np.array(list(zip(*test_1_set)))\n",
    "test_1_labels = np.array(test_1_labels)\n",
    "test_2_set = np.array(list(zip(*test_2_set)))\n",
    "test_2_labels = np.array(test_2_labels)"
   ]
  },
  {
   "cell_type": "code",
   "execution_count": 6,
   "metadata": {
    "scrolled": true
   },
   "outputs": [
    {
     "name": "stderr",
     "output_type": "stream",
     "text": [
      " 20%|█▉        | 65/332 [00:12<00:43,  6.16it/s]"
     ]
    },
    {
     "name": "stdout",
     "output_type": "stream",
     "text": [
      "\n",
      "################################################################################\n",
      "Exception occurred for: patient    Kidney-Penn-115\n",
      "volume            0.658593\n",
      "outcome          malignant\n",
      "age               0.594595\n",
      "sex                      0\n",
      "Name: Kidney-Penn-115, dtype: object\n",
      "[Errno 2] No such file or directory: '/data/intrepidlemon/renal/preprocessed/Kidney-Penn-115-T1C-imagingVolume.nrrd'\n",
      "Traceback (most recent call last):\n",
      "  File \"/home/user1/intrepidlemon/renal-mri/data.py\", line 279, in generate_from_features\n",
      "    t1_masked = load_image(t1_image_file, t1_seg_file, verbose=verbose)\n",
      "  File \"/home/user1/intrepidlemon/renal-mri/data.py\", line 240, in load_image\n",
      "    image, _ = nrrd.read(image_path)\n",
      "  File \"/home/user1/.local/share/virtualenvs/renal-mri-NanAjWL7/lib/python3.6/site-packages/nrrd/reader.py\", line 427, in read\n",
      "    with open(filename, 'rb') as fh:\n",
      "FileNotFoundError: [Errno 2] No such file or directory: '/data/intrepidlemon/renal/preprocessed/Kidney-Penn-115-T1C-imagingVolume.nrrd'\n",
      "\n"
     ]
    },
    {
     "name": "stderr",
     "output_type": "stream",
     "text": [
      " 35%|███▍      | 115/332 [00:22<01:06,  3.26it/s]"
     ]
    },
    {
     "name": "stdout",
     "output_type": "stream",
     "text": [
      "\n",
      "################################################################################\n",
      "Exception occurred for: patient    Kidney-Penn-153\n",
      "volume            0.658695\n",
      "outcome          malignant\n",
      "age               0.540541\n",
      "sex                      1\n",
      "Name: Kidney-Penn-153, dtype: object\n",
      "[Errno 2] No such file or directory: '/data/intrepidlemon/renal/preprocessed/Kidney-Penn-153-T1C-imagingVolume.nrrd'\n",
      "Traceback (most recent call last):\n",
      "  File \"/home/user1/intrepidlemon/renal-mri/data.py\", line 279, in generate_from_features\n",
      "    t1_masked = load_image(t1_image_file, t1_seg_file, verbose=verbose)\n",
      "  File \"/home/user1/intrepidlemon/renal-mri/data.py\", line 240, in load_image\n",
      "    image, _ = nrrd.read(image_path)\n",
      "  File \"/home/user1/.local/share/virtualenvs/renal-mri-NanAjWL7/lib/python3.6/site-packages/nrrd/reader.py\", line 427, in read\n",
      "    with open(filename, 'rb') as fh:\n",
      "FileNotFoundError: [Errno 2] No such file or directory: '/data/intrepidlemon/renal/preprocessed/Kidney-Penn-153-T1C-imagingVolume.nrrd'\n",
      "\n"
     ]
    },
    {
     "name": "stderr",
     "output_type": "stream",
     "text": [
      " 48%|████▊     | 158/332 [00:29<00:23,  7.35it/s]"
     ]
    },
    {
     "name": "stdout",
     "output_type": "stream",
     "text": [
      "\n",
      "################################################################################\n",
      "Exception occurred for: patient    Kidney-Penn-266\n",
      "volume            0.658453\n",
      "outcome          malignant\n",
      "age               0.567568\n",
      "sex                      1\n",
      "Name: Kidney-Penn-266, dtype: object\n",
      "[Errno 2] No such file or directory: '/data/intrepidlemon/renal/preprocessed/Kidney-Penn-266-T1C-imagingVolume.nrrd'\n",
      "Traceback (most recent call last):\n",
      "  File \"/home/user1/intrepidlemon/renal-mri/data.py\", line 279, in generate_from_features\n",
      "    t1_masked = load_image(t1_image_file, t1_seg_file, verbose=verbose)\n",
      "  File \"/home/user1/intrepidlemon/renal-mri/data.py\", line 240, in load_image\n",
      "    image, _ = nrrd.read(image_path)\n",
      "  File \"/home/user1/.local/share/virtualenvs/renal-mri-NanAjWL7/lib/python3.6/site-packages/nrrd/reader.py\", line 427, in read\n",
      "    with open(filename, 'rb') as fh:\n",
      "FileNotFoundError: [Errno 2] No such file or directory: '/data/intrepidlemon/renal/preprocessed/Kidney-Penn-266-T1C-imagingVolume.nrrd'\n",
      "\n"
     ]
    },
    {
     "name": "stderr",
     "output_type": "stream",
     "text": [
      " 92%|█████████▏| 304/332 [00:56<00:08,  3.26it/s]"
     ]
    },
    {
     "name": "stdout",
     "output_type": "stream",
     "text": [
      "\n",
      "################################################################################\n",
      "Exception occurred for: patient    Kidney-Penn-080\n",
      "volume            0.660122\n",
      "outcome             benign\n",
      "age               0.756757\n",
      "sex                      1\n",
      "Name: Kidney-Penn-080, dtype: object\n",
      "[Errno 2] No such file or directory: '/data/intrepidlemon/renal/preprocessed/Kidney-Penn-080-T1C-imagingVolume.nrrd'\n",
      "Traceback (most recent call last):\n",
      "  File \"/home/user1/intrepidlemon/renal-mri/data.py\", line 279, in generate_from_features\n",
      "    t1_masked = load_image(t1_image_file, t1_seg_file, verbose=verbose)\n",
      "  File \"/home/user1/intrepidlemon/renal-mri/data.py\", line 240, in load_image\n",
      "    image, _ = nrrd.read(image_path)\n",
      "  File \"/home/user1/.local/share/virtualenvs/renal-mri-NanAjWL7/lib/python3.6/site-packages/nrrd/reader.py\", line 427, in read\n",
      "    with open(filename, 'rb') as fh:\n",
      "FileNotFoundError: [Errno 2] No such file or directory: '/data/intrepidlemon/renal/preprocessed/Kidney-Penn-080-T1C-imagingVolume.nrrd'\n",
      "\n"
     ]
    },
    {
     "name": "stderr",
     "output_type": "stream",
     "text": [
      "100%|██████████| 332/332 [01:01<00:00,  5.41it/s]\n",
      " 57%|█████▋    | 54/94 [00:08<00:04,  8.93it/s]"
     ]
    },
    {
     "name": "stdout",
     "output_type": "stream",
     "text": [
      "\n",
      "################################################################################\n",
      "Exception occurred for: patient    Kidney-Penn-029\n",
      "volume            0.658486\n",
      "outcome          malignant\n",
      "age               0.581081\n",
      "sex                      1\n",
      "Name: Kidney-Penn-029, dtype: object\n",
      "[Errno 2] No such file or directory: '/data/intrepidlemon/renal/preprocessed/Kidney-Penn-029-T1C-imagingVolume.nrrd'\n",
      "Traceback (most recent call last):\n",
      "  File \"/home/user1/intrepidlemon/renal-mri/data.py\", line 279, in generate_from_features\n",
      "    t1_masked = load_image(t1_image_file, t1_seg_file, verbose=verbose)\n",
      "  File \"/home/user1/intrepidlemon/renal-mri/data.py\", line 240, in load_image\n",
      "    image, _ = nrrd.read(image_path)\n",
      "  File \"/home/user1/.local/share/virtualenvs/renal-mri-NanAjWL7/lib/python3.6/site-packages/nrrd/reader.py\", line 427, in read\n",
      "    with open(filename, 'rb') as fh:\n",
      "FileNotFoundError: [Errno 2] No such file or directory: '/data/intrepidlemon/renal/preprocessed/Kidney-Penn-029-T1C-imagingVolume.nrrd'\n",
      "\n"
     ]
    },
    {
     "name": "stderr",
     "output_type": "stream",
     "text": [
      " 82%|████████▏ | 77/94 [00:13<00:02,  5.87it/s]"
     ]
    },
    {
     "name": "stdout",
     "output_type": "stream",
     "text": [
      "\n",
      "################################################################################\n",
      "Exception occurred for: patient    Kidney-Penn-007\n",
      "volume            0.658458\n",
      "outcome             benign\n",
      "age               0.635135\n",
      "sex                      1\n",
      "Name: Kidney-Penn-007, dtype: object\n",
      "[Errno 2] No such file or directory: '/data/intrepidlemon/renal/preprocessed/Kidney-Penn-007-T1C-imagingVolume.nrrd'\n",
      "Traceback (most recent call last):\n",
      "  File \"/home/user1/intrepidlemon/renal-mri/data.py\", line 279, in generate_from_features\n",
      "    t1_masked = load_image(t1_image_file, t1_seg_file, verbose=verbose)\n",
      "  File \"/home/user1/intrepidlemon/renal-mri/data.py\", line 240, in load_image\n",
      "    image, _ = nrrd.read(image_path)\n",
      "  File \"/home/user1/.local/share/virtualenvs/renal-mri-NanAjWL7/lib/python3.6/site-packages/nrrd/reader.py\", line 427, in read\n",
      "    with open(filename, 'rb') as fh:\n",
      "FileNotFoundError: [Errno 2] No such file or directory: '/data/intrepidlemon/renal/preprocessed/Kidney-Penn-007-T1C-imagingVolume.nrrd'\n",
      "\n"
     ]
    },
    {
     "name": "stderr",
     "output_type": "stream",
     "text": [
      "100%|██████████| 94/94 [00:18<00:00,  2.59it/s]\n",
      "100%|██████████| 47/47 [00:07<00:00,  7.84it/s]\n",
      " 20%|█▉        | 65/332 [00:14<00:49,  5.39it/s]"
     ]
    },
    {
     "name": "stdout",
     "output_type": "stream",
     "text": [
      "\n",
      "################################################################################\n",
      "Exception occurred for: patient    Kidney-Penn-115\n",
      "volume            0.658593\n",
      "outcome          malignant\n",
      "age               0.594595\n",
      "sex                      0\n",
      "Name: Kidney-Penn-115, dtype: object\n",
      "[Errno 2] No such file or directory: '/data/intrepidlemon/renal/preprocessed/Kidney-Penn-115-T1C-imagingVolume.nrrd'\n",
      "Traceback (most recent call last):\n",
      "  File \"/home/user1/intrepidlemon/renal-mri/data.py\", line 279, in generate_from_features\n",
      "    t1_masked = load_image(t1_image_file, t1_seg_file, verbose=verbose)\n",
      "  File \"/home/user1/intrepidlemon/renal-mri/data.py\", line 240, in load_image\n",
      "    image, _ = nrrd.read(image_path)\n",
      "  File \"/home/user1/.local/share/virtualenvs/renal-mri-NanAjWL7/lib/python3.6/site-packages/nrrd/reader.py\", line 427, in read\n",
      "    with open(filename, 'rb') as fh:\n",
      "FileNotFoundError: [Errno 2] No such file or directory: '/data/intrepidlemon/renal/preprocessed/Kidney-Penn-115-T1C-imagingVolume.nrrd'\n",
      "\n"
     ]
    },
    {
     "name": "stderr",
     "output_type": "stream",
     "text": [
      " 35%|███▍      | 115/332 [00:25<01:22,  2.62it/s]"
     ]
    },
    {
     "name": "stdout",
     "output_type": "stream",
     "text": [
      "\n",
      "################################################################################\n",
      "Exception occurred for: patient    Kidney-Penn-153\n",
      "volume            0.658695\n",
      "outcome          malignant\n",
      "age               0.540541\n",
      "sex                      1\n",
      "Name: Kidney-Penn-153, dtype: object\n",
      "[Errno 2] No such file or directory: '/data/intrepidlemon/renal/preprocessed/Kidney-Penn-153-T1C-imagingVolume.nrrd'\n",
      "Traceback (most recent call last):\n",
      "  File \"/home/user1/intrepidlemon/renal-mri/data.py\", line 279, in generate_from_features\n",
      "    t1_masked = load_image(t1_image_file, t1_seg_file, verbose=verbose)\n",
      "  File \"/home/user1/intrepidlemon/renal-mri/data.py\", line 240, in load_image\n",
      "    image, _ = nrrd.read(image_path)\n",
      "  File \"/home/user1/.local/share/virtualenvs/renal-mri-NanAjWL7/lib/python3.6/site-packages/nrrd/reader.py\", line 427, in read\n",
      "    with open(filename, 'rb') as fh:\n",
      "FileNotFoundError: [Errno 2] No such file or directory: '/data/intrepidlemon/renal/preprocessed/Kidney-Penn-153-T1C-imagingVolume.nrrd'\n",
      "\n"
     ]
    },
    {
     "name": "stderr",
     "output_type": "stream",
     "text": [
      " 47%|████▋     | 157/332 [00:33<00:35,  5.00it/s]"
     ]
    },
    {
     "name": "stdout",
     "output_type": "stream",
     "text": [
      "\n",
      "################################################################################\n",
      "Exception occurred for: patient    Kidney-Penn-266\n",
      "volume            0.658453\n",
      "outcome          malignant\n",
      "age               0.567568\n",
      "sex                      1\n",
      "Name: Kidney-Penn-266, dtype: object\n",
      "[Errno 2] No such file or directory: '/data/intrepidlemon/renal/preprocessed/Kidney-Penn-266-T1C-imagingVolume.nrrd'\n",
      "Traceback (most recent call last):\n",
      "  File \"/home/user1/intrepidlemon/renal-mri/data.py\", line 279, in generate_from_features\n",
      "    t1_masked = load_image(t1_image_file, t1_seg_file, verbose=verbose)\n",
      "  File \"/home/user1/intrepidlemon/renal-mri/data.py\", line 240, in load_image\n",
      "    image, _ = nrrd.read(image_path)\n",
      "  File \"/home/user1/.local/share/virtualenvs/renal-mri-NanAjWL7/lib/python3.6/site-packages/nrrd/reader.py\", line 427, in read\n",
      "    with open(filename, 'rb') as fh:\n",
      "FileNotFoundError: [Errno 2] No such file or directory: '/data/intrepidlemon/renal/preprocessed/Kidney-Penn-266-T1C-imagingVolume.nrrd'\n",
      "\n"
     ]
    },
    {
     "name": "stderr",
     "output_type": "stream",
     "text": [
      " 92%|█████████▏| 304/332 [01:04<00:10,  2.62it/s]"
     ]
    },
    {
     "name": "stdout",
     "output_type": "stream",
     "text": [
      "\n",
      "################################################################################\n",
      "Exception occurred for: patient    Kidney-Penn-080\n",
      "volume            0.660122\n",
      "outcome             benign\n",
      "age               0.756757\n",
      "sex                      1\n",
      "Name: Kidney-Penn-080, dtype: object\n",
      "[Errno 2] No such file or directory: '/data/intrepidlemon/renal/preprocessed/Kidney-Penn-080-T1C-imagingVolume.nrrd'\n",
      "Traceback (most recent call last):\n",
      "  File \"/home/user1/intrepidlemon/renal-mri/data.py\", line 279, in generate_from_features\n",
      "    t1_masked = load_image(t1_image_file, t1_seg_file, verbose=verbose)\n",
      "  File \"/home/user1/intrepidlemon/renal-mri/data.py\", line 240, in load_image\n",
      "    image, _ = nrrd.read(image_path)\n",
      "  File \"/home/user1/.local/share/virtualenvs/renal-mri-NanAjWL7/lib/python3.6/site-packages/nrrd/reader.py\", line 427, in read\n",
      "    with open(filename, 'rb') as fh:\n",
      "FileNotFoundError: [Errno 2] No such file or directory: '/data/intrepidlemon/renal/preprocessed/Kidney-Penn-080-T1C-imagingVolume.nrrd'\n",
      "\n"
     ]
    },
    {
     "name": "stderr",
     "output_type": "stream",
     "text": [
      "100%|██████████| 332/332 [01:10<00:00,  4.74it/s]\n",
      " 57%|█████▋    | 54/94 [00:10<00:05,  7.81it/s]"
     ]
    },
    {
     "name": "stdout",
     "output_type": "stream",
     "text": [
      "\n",
      "################################################################################\n",
      "Exception occurred for: patient    Kidney-Penn-029\n",
      "volume            0.658486\n",
      "outcome          malignant\n",
      "age               0.581081\n",
      "sex                      1\n",
      "Name: Kidney-Penn-029, dtype: object\n",
      "[Errno 2] No such file or directory: '/data/intrepidlemon/renal/preprocessed/Kidney-Penn-029-T1C-imagingVolume.nrrd'\n",
      "Traceback (most recent call last):\n",
      "  File \"/home/user1/intrepidlemon/renal-mri/data.py\", line 279, in generate_from_features\n",
      "    t1_masked = load_image(t1_image_file, t1_seg_file, verbose=verbose)\n",
      "  File \"/home/user1/intrepidlemon/renal-mri/data.py\", line 240, in load_image\n",
      "    image, _ = nrrd.read(image_path)\n",
      "  File \"/home/user1/.local/share/virtualenvs/renal-mri-NanAjWL7/lib/python3.6/site-packages/nrrd/reader.py\", line 427, in read\n",
      "    with open(filename, 'rb') as fh:\n",
      "FileNotFoundError: [Errno 2] No such file or directory: '/data/intrepidlemon/renal/preprocessed/Kidney-Penn-029-T1C-imagingVolume.nrrd'\n",
      "\n"
     ]
    },
    {
     "name": "stderr",
     "output_type": "stream",
     "text": [
      " 82%|████████▏ | 77/94 [00:15<00:03,  4.96it/s]"
     ]
    },
    {
     "name": "stdout",
     "output_type": "stream",
     "text": [
      "\n",
      "################################################################################\n",
      "Exception occurred for: patient    Kidney-Penn-007\n",
      "volume            0.658458\n",
      "outcome             benign\n",
      "age               0.635135\n",
      "sex                      1\n",
      "Name: Kidney-Penn-007, dtype: object\n",
      "[Errno 2] No such file or directory: '/data/intrepidlemon/renal/preprocessed/Kidney-Penn-007-T1C-imagingVolume.nrrd'\n",
      "Traceback (most recent call last):\n",
      "  File \"/home/user1/intrepidlemon/renal-mri/data.py\", line 279, in generate_from_features\n",
      "    t1_masked = load_image(t1_image_file, t1_seg_file, verbose=verbose)\n",
      "  File \"/home/user1/intrepidlemon/renal-mri/data.py\", line 240, in load_image\n",
      "    image, _ = nrrd.read(image_path)\n",
      "  File \"/home/user1/.local/share/virtualenvs/renal-mri-NanAjWL7/lib/python3.6/site-packages/nrrd/reader.py\", line 427, in read\n",
      "    with open(filename, 'rb') as fh:\n",
      "FileNotFoundError: [Errno 2] No such file or directory: '/data/intrepidlemon/renal/preprocessed/Kidney-Penn-007-T1C-imagingVolume.nrrd'\n",
      "\n"
     ]
    },
    {
     "name": "stderr",
     "output_type": "stream",
     "text": [
      "100%|██████████| 94/94 [00:21<00:00,  2.04it/s]\n",
      "100%|██████████| 47/47 [00:08<00:00,  7.64it/s]\n",
      " 20%|██        | 67/332 [00:05<00:16, 15.78it/s]"
     ]
    },
    {
     "name": "stdout",
     "output_type": "stream",
     "text": [
      "\n",
      "################################################################################\n",
      "Exception occurred for: patient    Kidney-Penn-115\n",
      "volume            0.658593\n",
      "outcome          malignant\n",
      "age               0.594595\n",
      "sex                      0\n",
      "Name: Kidney-Penn-115, dtype: object\n",
      "[Errno 2] No such file or directory: '/data/intrepidlemon/renal/preprocessed/Kidney-Penn-115-T2WI-imagingVolume.nrrd'\n",
      "Traceback (most recent call last):\n",
      "  File \"/home/user1/intrepidlemon/renal-mri/data.py\", line 283, in generate_from_features\n",
      "    t2_masked = load_image(t2_image_file, t2_seg_file, verbose=verbose)\n",
      "  File \"/home/user1/intrepidlemon/renal-mri/data.py\", line 240, in load_image\n",
      "    image, _ = nrrd.read(image_path)\n",
      "  File \"/home/user1/.local/share/virtualenvs/renal-mri-NanAjWL7/lib/python3.6/site-packages/nrrd/reader.py\", line 427, in read\n",
      "    with open(filename, 'rb') as fh:\n",
      "FileNotFoundError: [Errno 2] No such file or directory: '/data/intrepidlemon/renal/preprocessed/Kidney-Penn-115-T2WI-imagingVolume.nrrd'\n",
      "\n"
     ]
    },
    {
     "name": "stderr",
     "output_type": "stream",
     "text": [
      " 35%|███▌      | 117/332 [00:09<00:20, 10.47it/s]"
     ]
    },
    {
     "name": "stdout",
     "output_type": "stream",
     "text": [
      "\n",
      "################################################################################\n",
      "Exception occurred for: patient    Kidney-Penn-153\n",
      "volume            0.658695\n",
      "outcome          malignant\n",
      "age               0.540541\n",
      "sex                      1\n",
      "Name: Kidney-Penn-153, dtype: object\n",
      "[Errno 2] No such file or directory: '/data/intrepidlemon/renal/preprocessed/Kidney-Penn-153-T2WI-imagingVolume.nrrd'\n",
      "Traceback (most recent call last):\n",
      "  File \"/home/user1/intrepidlemon/renal-mri/data.py\", line 283, in generate_from_features\n",
      "    t2_masked = load_image(t2_image_file, t2_seg_file, verbose=verbose)\n",
      "  File \"/home/user1/intrepidlemon/renal-mri/data.py\", line 240, in load_image\n",
      "    image, _ = nrrd.read(image_path)\n",
      "  File \"/home/user1/.local/share/virtualenvs/renal-mri-NanAjWL7/lib/python3.6/site-packages/nrrd/reader.py\", line 427, in read\n",
      "    with open(filename, 'rb') as fh:\n",
      "FileNotFoundError: [Errno 2] No such file or directory: '/data/intrepidlemon/renal/preprocessed/Kidney-Penn-153-T2WI-imagingVolume.nrrd'\n",
      "\n"
     ]
    },
    {
     "name": "stderr",
     "output_type": "stream",
     "text": [
      " 48%|████▊     | 159/332 [00:13<00:13, 12.53it/s]"
     ]
    },
    {
     "name": "stdout",
     "output_type": "stream",
     "text": [
      "\n",
      "################################################################################\n",
      "Exception occurred for: patient    Kidney-Penn-266\n",
      "volume            0.658453\n",
      "outcome          malignant\n",
      "age               0.567568\n",
      "sex                      1\n",
      "Name: Kidney-Penn-266, dtype: object\n",
      "[Errno 2] No such file or directory: '/data/intrepidlemon/renal/preprocessed/Kidney-Penn-266-T2WI-imagingVolume.nrrd'\n",
      "Traceback (most recent call last):\n",
      "  File \"/home/user1/intrepidlemon/renal-mri/data.py\", line 283, in generate_from_features\n",
      "    t2_masked = load_image(t2_image_file, t2_seg_file, verbose=verbose)\n",
      "  File \"/home/user1/intrepidlemon/renal-mri/data.py\", line 240, in load_image\n",
      "    image, _ = nrrd.read(image_path)\n",
      "  File \"/home/user1/.local/share/virtualenvs/renal-mri-NanAjWL7/lib/python3.6/site-packages/nrrd/reader.py\", line 427, in read\n",
      "    with open(filename, 'rb') as fh:\n",
      "FileNotFoundError: [Errno 2] No such file or directory: '/data/intrepidlemon/renal/preprocessed/Kidney-Penn-266-T2WI-imagingVolume.nrrd'\n",
      "\n"
     ]
    },
    {
     "name": "stderr",
     "output_type": "stream",
     "text": [
      " 92%|█████████▏| 305/332 [00:26<00:02, 10.05it/s]"
     ]
    },
    {
     "name": "stdout",
     "output_type": "stream",
     "text": [
      "\n",
      "################################################################################\n",
      "Exception occurred for: patient    Kidney-Penn-080\n",
      "volume            0.660122\n",
      "outcome             benign\n",
      "age               0.756757\n",
      "sex                      1\n",
      "Name: Kidney-Penn-080, dtype: object\n",
      "[Errno 2] No such file or directory: '/data/intrepidlemon/renal/preprocessed/Kidney-Penn-080-T2WI-imagingVolume.nrrd'\n",
      "Traceback (most recent call last):\n",
      "  File \"/home/user1/intrepidlemon/renal-mri/data.py\", line 283, in generate_from_features\n",
      "    t2_masked = load_image(t2_image_file, t2_seg_file, verbose=verbose)\n",
      "  File \"/home/user1/intrepidlemon/renal-mri/data.py\", line 240, in load_image\n",
      "    image, _ = nrrd.read(image_path)\n",
      "  File \"/home/user1/.local/share/virtualenvs/renal-mri-NanAjWL7/lib/python3.6/site-packages/nrrd/reader.py\", line 427, in read\n",
      "    with open(filename, 'rb') as fh:\n",
      "FileNotFoundError: [Errno 2] No such file or directory: '/data/intrepidlemon/renal/preprocessed/Kidney-Penn-080-T2WI-imagingVolume.nrrd'\n",
      "\n"
     ]
    },
    {
     "name": "stderr",
     "output_type": "stream",
     "text": [
      "100%|██████████| 332/332 [00:28<00:00,  8.05it/s]\n",
      " 55%|█████▌    | 52/94 [00:05<00:03, 10.73it/s]"
     ]
    },
    {
     "name": "stdout",
     "output_type": "stream",
     "text": [
      "\n",
      "################################################################################\n",
      "Exception occurred for: patient    Kidney-Penn-029\n",
      "volume            0.658486\n",
      "outcome          malignant\n",
      "age               0.581081\n",
      "sex                      1\n",
      "Name: Kidney-Penn-029, dtype: object\n",
      "[Errno 2] No such file or directory: '/data/intrepidlemon/renal/preprocessed/Kidney-Penn-029-T2WI-imagingVolume.nrrd'\n",
      "Traceback (most recent call last):\n",
      "  File \"/home/user1/intrepidlemon/renal-mri/data.py\", line 283, in generate_from_features\n",
      "    t2_masked = load_image(t2_image_file, t2_seg_file, verbose=verbose)\n",
      "  File \"/home/user1/intrepidlemon/renal-mri/data.py\", line 240, in load_image\n",
      "    image, _ = nrrd.read(image_path)\n",
      "  File \"/home/user1/.local/share/virtualenvs/renal-mri-NanAjWL7/lib/python3.6/site-packages/nrrd/reader.py\", line 427, in read\n",
      "    with open(filename, 'rb') as fh:\n",
      "FileNotFoundError: [Errno 2] No such file or directory: '/data/intrepidlemon/renal/preprocessed/Kidney-Penn-029-T2WI-imagingVolume.nrrd'\n",
      "\n"
     ]
    },
    {
     "name": "stderr",
     "output_type": "stream",
     "text": [
      " 83%|████████▎ | 78/94 [00:06<00:01, 15.60it/s]"
     ]
    },
    {
     "name": "stdout",
     "output_type": "stream",
     "text": [
      "\n",
      "################################################################################\n",
      "Exception occurred for: patient    Kidney-Penn-007\n",
      "volume            0.658458\n",
      "outcome             benign\n",
      "age               0.635135\n",
      "sex                      1\n",
      "Name: Kidney-Penn-007, dtype: object\n",
      "[Errno 2] No such file or directory: '/data/intrepidlemon/renal/preprocessed/Kidney-Penn-007-T2WI-imagingVolume.nrrd'\n",
      "Traceback (most recent call last):\n",
      "  File \"/home/user1/intrepidlemon/renal-mri/data.py\", line 283, in generate_from_features\n",
      "    t2_masked = load_image(t2_image_file, t2_seg_file, verbose=verbose)\n",
      "  File \"/home/user1/intrepidlemon/renal-mri/data.py\", line 240, in load_image\n",
      "    image, _ = nrrd.read(image_path)\n",
      "  File \"/home/user1/.local/share/virtualenvs/renal-mri-NanAjWL7/lib/python3.6/site-packages/nrrd/reader.py\", line 427, in read\n",
      "    with open(filename, 'rb') as fh:\n",
      "FileNotFoundError: [Errno 2] No such file or directory: '/data/intrepidlemon/renal/preprocessed/Kidney-Penn-007-T2WI-imagingVolume.nrrd'\n",
      "\n"
     ]
    },
    {
     "name": "stderr",
     "output_type": "stream",
     "text": [
      "100%|██████████| 94/94 [00:08<00:00,  6.77it/s]\n",
      "100%|██████████| 47/47 [00:04<00:00, 10.80it/s]\n",
      " 20%|██        | 67/332 [00:05<00:17, 15.35it/s]"
     ]
    },
    {
     "name": "stdout",
     "output_type": "stream",
     "text": [
      "\n",
      "################################################################################\n",
      "Exception occurred for: patient    Kidney-Penn-115\n",
      "volume            0.658593\n",
      "outcome          malignant\n",
      "age               0.594595\n",
      "sex                      0\n",
      "Name: Kidney-Penn-115, dtype: object\n",
      "[Errno 2] No such file or directory: '/data/intrepidlemon/renal/preprocessed/Kidney-Penn-115-T2WI-imagingVolume.nrrd'\n",
      "Traceback (most recent call last):\n",
      "  File \"/home/user1/intrepidlemon/renal-mri/data.py\", line 283, in generate_from_features\n",
      "    t2_masked = load_image(t2_image_file, t2_seg_file, verbose=verbose)\n",
      "  File \"/home/user1/intrepidlemon/renal-mri/data.py\", line 240, in load_image\n",
      "    image, _ = nrrd.read(image_path)\n",
      "  File \"/home/user1/.local/share/virtualenvs/renal-mri-NanAjWL7/lib/python3.6/site-packages/nrrd/reader.py\", line 427, in read\n",
      "    with open(filename, 'rb') as fh:\n",
      "FileNotFoundError: [Errno 2] No such file or directory: '/data/intrepidlemon/renal/preprocessed/Kidney-Penn-115-T2WI-imagingVolume.nrrd'\n",
      "\n"
     ]
    },
    {
     "name": "stderr",
     "output_type": "stream",
     "text": [
      " 35%|███▌      | 117/332 [00:09<00:19, 10.85it/s]"
     ]
    },
    {
     "name": "stdout",
     "output_type": "stream",
     "text": [
      "\n",
      "################################################################################\n",
      "Exception occurred for: patient    Kidney-Penn-153\n",
      "volume            0.658695\n",
      "outcome          malignant\n",
      "age               0.540541\n",
      "sex                      1\n",
      "Name: Kidney-Penn-153, dtype: object\n",
      "[Errno 2] No such file or directory: '/data/intrepidlemon/renal/preprocessed/Kidney-Penn-153-T2WI-imagingVolume.nrrd'\n",
      "Traceback (most recent call last):\n",
      "  File \"/home/user1/intrepidlemon/renal-mri/data.py\", line 283, in generate_from_features\n",
      "    t2_masked = load_image(t2_image_file, t2_seg_file, verbose=verbose)\n",
      "  File \"/home/user1/intrepidlemon/renal-mri/data.py\", line 240, in load_image\n",
      "    image, _ = nrrd.read(image_path)\n",
      "  File \"/home/user1/.local/share/virtualenvs/renal-mri-NanAjWL7/lib/python3.6/site-packages/nrrd/reader.py\", line 427, in read\n",
      "    with open(filename, 'rb') as fh:\n",
      "FileNotFoundError: [Errno 2] No such file or directory: '/data/intrepidlemon/renal/preprocessed/Kidney-Penn-153-T2WI-imagingVolume.nrrd'\n",
      "\n"
     ]
    },
    {
     "name": "stderr",
     "output_type": "stream",
     "text": [
      " 48%|████▊     | 159/332 [00:13<00:12, 13.42it/s]"
     ]
    },
    {
     "name": "stdout",
     "output_type": "stream",
     "text": [
      "\n",
      "################################################################################\n",
      "Exception occurred for: patient    Kidney-Penn-266\n",
      "volume            0.658453\n",
      "outcome          malignant\n",
      "age               0.567568\n",
      "sex                      1\n",
      "Name: Kidney-Penn-266, dtype: object\n",
      "[Errno 2] No such file or directory: '/data/intrepidlemon/renal/preprocessed/Kidney-Penn-266-T2WI-imagingVolume.nrrd'\n",
      "Traceback (most recent call last):\n",
      "  File \"/home/user1/intrepidlemon/renal-mri/data.py\", line 283, in generate_from_features\n",
      "    t2_masked = load_image(t2_image_file, t2_seg_file, verbose=verbose)\n",
      "  File \"/home/user1/intrepidlemon/renal-mri/data.py\", line 240, in load_image\n",
      "    image, _ = nrrd.read(image_path)\n",
      "  File \"/home/user1/.local/share/virtualenvs/renal-mri-NanAjWL7/lib/python3.6/site-packages/nrrd/reader.py\", line 427, in read\n",
      "    with open(filename, 'rb') as fh:\n",
      "FileNotFoundError: [Errno 2] No such file or directory: '/data/intrepidlemon/renal/preprocessed/Kidney-Penn-266-T2WI-imagingVolume.nrrd'\n",
      "\n"
     ]
    },
    {
     "name": "stderr",
     "output_type": "stream",
     "text": [
      " 92%|█████████▏| 305/332 [00:25<00:02, 10.09it/s]"
     ]
    },
    {
     "name": "stdout",
     "output_type": "stream",
     "text": [
      "\n",
      "################################################################################\n",
      "Exception occurred for: patient    Kidney-Penn-080\n",
      "volume            0.660122\n",
      "outcome             benign\n",
      "age               0.756757\n",
      "sex                      1\n",
      "Name: Kidney-Penn-080, dtype: object\n",
      "[Errno 2] No such file or directory: '/data/intrepidlemon/renal/preprocessed/Kidney-Penn-080-T2WI-imagingVolume.nrrd'\n",
      "Traceback (most recent call last):\n",
      "  File \"/home/user1/intrepidlemon/renal-mri/data.py\", line 283, in generate_from_features\n",
      "    t2_masked = load_image(t2_image_file, t2_seg_file, verbose=verbose)\n",
      "  File \"/home/user1/intrepidlemon/renal-mri/data.py\", line 240, in load_image\n",
      "    image, _ = nrrd.read(image_path)\n",
      "  File \"/home/user1/.local/share/virtualenvs/renal-mri-NanAjWL7/lib/python3.6/site-packages/nrrd/reader.py\", line 427, in read\n",
      "    with open(filename, 'rb') as fh:\n",
      "FileNotFoundError: [Errno 2] No such file or directory: '/data/intrepidlemon/renal/preprocessed/Kidney-Penn-080-T2WI-imagingVolume.nrrd'\n",
      "\n"
     ]
    },
    {
     "name": "stderr",
     "output_type": "stream",
     "text": [
      "100%|██████████| 332/332 [00:28<00:00,  8.11it/s]\n",
      " 55%|█████▌    | 52/94 [00:05<00:04, 10.34it/s]"
     ]
    },
    {
     "name": "stdout",
     "output_type": "stream",
     "text": [
      "\n",
      "################################################################################\n",
      "Exception occurred for: patient    Kidney-Penn-029\n",
      "volume            0.658486\n",
      "outcome          malignant\n",
      "age               0.581081\n",
      "sex                      1\n",
      "Name: Kidney-Penn-029, dtype: object\n",
      "[Errno 2] No such file or directory: '/data/intrepidlemon/renal/preprocessed/Kidney-Penn-029-T2WI-imagingVolume.nrrd'\n",
      "Traceback (most recent call last):\n",
      "  File \"/home/user1/intrepidlemon/renal-mri/data.py\", line 283, in generate_from_features\n",
      "    t2_masked = load_image(t2_image_file, t2_seg_file, verbose=verbose)\n",
      "  File \"/home/user1/intrepidlemon/renal-mri/data.py\", line 240, in load_image\n",
      "    image, _ = nrrd.read(image_path)\n",
      "  File \"/home/user1/.local/share/virtualenvs/renal-mri-NanAjWL7/lib/python3.6/site-packages/nrrd/reader.py\", line 427, in read\n",
      "    with open(filename, 'rb') as fh:\n",
      "FileNotFoundError: [Errno 2] No such file or directory: '/data/intrepidlemon/renal/preprocessed/Kidney-Penn-029-T2WI-imagingVolume.nrrd'\n",
      "\n"
     ]
    },
    {
     "name": "stderr",
     "output_type": "stream",
     "text": [
      " 83%|████████▎ | 78/94 [00:06<00:01, 15.47it/s]"
     ]
    },
    {
     "name": "stdout",
     "output_type": "stream",
     "text": [
      "\n",
      "################################################################################\n",
      "Exception occurred for: patient    Kidney-Penn-007\n",
      "volume            0.658458\n",
      "outcome             benign\n",
      "age               0.635135\n",
      "sex                      1\n",
      "Name: Kidney-Penn-007, dtype: object\n",
      "[Errno 2] No such file or directory: '/data/intrepidlemon/renal/preprocessed/Kidney-Penn-007-T2WI-imagingVolume.nrrd'\n",
      "Traceback (most recent call last):\n",
      "  File \"/home/user1/intrepidlemon/renal-mri/data.py\", line 283, in generate_from_features\n",
      "    t2_masked = load_image(t2_image_file, t2_seg_file, verbose=verbose)\n",
      "  File \"/home/user1/intrepidlemon/renal-mri/data.py\", line 240, in load_image\n",
      "    image, _ = nrrd.read(image_path)\n",
      "  File \"/home/user1/.local/share/virtualenvs/renal-mri-NanAjWL7/lib/python3.6/site-packages/nrrd/reader.py\", line 427, in read\n",
      "    with open(filename, 'rb') as fh:\n",
      "FileNotFoundError: [Errno 2] No such file or directory: '/data/intrepidlemon/renal/preprocessed/Kidney-Penn-007-T2WI-imagingVolume.nrrd'\n",
      "\n"
     ]
    },
    {
     "name": "stderr",
     "output_type": "stream",
     "text": [
      "100%|██████████| 94/94 [00:08<00:00,  6.97it/s]\n",
      "100%|██████████| 47/47 [00:04<00:00, 10.95it/s]\n",
      " 20%|█▉        | 65/332 [00:14<00:48,  5.56it/s]"
     ]
    },
    {
     "name": "stdout",
     "output_type": "stream",
     "text": [
      "\n",
      "################################################################################\n",
      "Exception occurred for: patient    Kidney-Penn-115\n",
      "volume            0.658593\n",
      "outcome          malignant\n",
      "age               0.594595\n",
      "sex                      0\n",
      "Name: Kidney-Penn-115, dtype: object\n",
      "[Errno 2] No such file or directory: '/data/intrepidlemon/renal/preprocessed/Kidney-Penn-115-T1C-imagingVolume.nrrd'\n",
      "Traceback (most recent call last):\n",
      "  File \"/home/user1/intrepidlemon/renal-mri/data.py\", line 279, in generate_from_features\n",
      "    t1_masked = load_image(t1_image_file, t1_seg_file, verbose=verbose)\n",
      "  File \"/home/user1/intrepidlemon/renal-mri/data.py\", line 240, in load_image\n",
      "    image, _ = nrrd.read(image_path)\n",
      "  File \"/home/user1/.local/share/virtualenvs/renal-mri-NanAjWL7/lib/python3.6/site-packages/nrrd/reader.py\", line 427, in read\n",
      "    with open(filename, 'rb') as fh:\n",
      "FileNotFoundError: [Errno 2] No such file or directory: '/data/intrepidlemon/renal/preprocessed/Kidney-Penn-115-T1C-imagingVolume.nrrd'\n",
      "\n"
     ]
    },
    {
     "name": "stderr",
     "output_type": "stream",
     "text": [
      " 35%|███▍      | 115/332 [00:25<01:21,  2.66it/s]"
     ]
    },
    {
     "name": "stdout",
     "output_type": "stream",
     "text": [
      "\n",
      "################################################################################\n",
      "Exception occurred for: patient    Kidney-Penn-153\n",
      "volume            0.658695\n",
      "outcome          malignant\n",
      "age               0.540541\n",
      "sex                      1\n",
      "Name: Kidney-Penn-153, dtype: object\n",
      "[Errno 2] No such file or directory: '/data/intrepidlemon/renal/preprocessed/Kidney-Penn-153-T1C-imagingVolume.nrrd'\n",
      "Traceback (most recent call last):\n",
      "  File \"/home/user1/intrepidlemon/renal-mri/data.py\", line 279, in generate_from_features\n",
      "    t1_masked = load_image(t1_image_file, t1_seg_file, verbose=verbose)\n",
      "  File \"/home/user1/intrepidlemon/renal-mri/data.py\", line 240, in load_image\n",
      "    image, _ = nrrd.read(image_path)\n",
      "  File \"/home/user1/.local/share/virtualenvs/renal-mri-NanAjWL7/lib/python3.6/site-packages/nrrd/reader.py\", line 427, in read\n",
      "    with open(filename, 'rb') as fh:\n",
      "FileNotFoundError: [Errno 2] No such file or directory: '/data/intrepidlemon/renal/preprocessed/Kidney-Penn-153-T1C-imagingVolume.nrrd'\n",
      "\n"
     ]
    },
    {
     "name": "stderr",
     "output_type": "stream",
     "text": [
      " 47%|████▋     | 157/332 [00:33<00:34,  5.06it/s]"
     ]
    },
    {
     "name": "stdout",
     "output_type": "stream",
     "text": [
      "\n",
      "################################################################################\n",
      "Exception occurred for: patient    Kidney-Penn-266\n",
      "volume            0.658453\n",
      "outcome          malignant\n",
      "age               0.567568\n",
      "sex                      1\n",
      "Name: Kidney-Penn-266, dtype: object\n",
      "[Errno 2] No such file or directory: '/data/intrepidlemon/renal/preprocessed/Kidney-Penn-266-T1C-imagingVolume.nrrd'\n",
      "Traceback (most recent call last):\n",
      "  File \"/home/user1/intrepidlemon/renal-mri/data.py\", line 279, in generate_from_features\n",
      "    t1_masked = load_image(t1_image_file, t1_seg_file, verbose=verbose)\n",
      "  File \"/home/user1/intrepidlemon/renal-mri/data.py\", line 240, in load_image\n",
      "    image, _ = nrrd.read(image_path)\n",
      "  File \"/home/user1/.local/share/virtualenvs/renal-mri-NanAjWL7/lib/python3.6/site-packages/nrrd/reader.py\", line 427, in read\n",
      "    with open(filename, 'rb') as fh:\n",
      "FileNotFoundError: [Errno 2] No such file or directory: '/data/intrepidlemon/renal/preprocessed/Kidney-Penn-266-T1C-imagingVolume.nrrd'\n",
      "\n"
     ]
    },
    {
     "name": "stderr",
     "output_type": "stream",
     "text": [
      " 92%|█████████▏| 304/332 [01:04<00:10,  2.69it/s]"
     ]
    },
    {
     "name": "stdout",
     "output_type": "stream",
     "text": [
      "\n",
      "################################################################################\n",
      "Exception occurred for: patient    Kidney-Penn-080\n",
      "volume            0.660122\n",
      "outcome             benign\n",
      "age               0.756757\n",
      "sex                      1\n",
      "Name: Kidney-Penn-080, dtype: object\n",
      "[Errno 2] No such file or directory: '/data/intrepidlemon/renal/preprocessed/Kidney-Penn-080-T1C-imagingVolume.nrrd'\n",
      "Traceback (most recent call last):\n",
      "  File \"/home/user1/intrepidlemon/renal-mri/data.py\", line 279, in generate_from_features\n",
      "    t1_masked = load_image(t1_image_file, t1_seg_file, verbose=verbose)\n",
      "  File \"/home/user1/intrepidlemon/renal-mri/data.py\", line 240, in load_image\n",
      "    image, _ = nrrd.read(image_path)\n",
      "  File \"/home/user1/.local/share/virtualenvs/renal-mri-NanAjWL7/lib/python3.6/site-packages/nrrd/reader.py\", line 427, in read\n",
      "    with open(filename, 'rb') as fh:\n",
      "FileNotFoundError: [Errno 2] No such file or directory: '/data/intrepidlemon/renal/preprocessed/Kidney-Penn-080-T1C-imagingVolume.nrrd'\n",
      "\n"
     ]
    },
    {
     "name": "stderr",
     "output_type": "stream",
     "text": [
      "100%|██████████| 332/332 [01:10<00:00,  4.74it/s]\n",
      " 56%|█████▋    | 53/94 [00:10<00:05,  7.36it/s]"
     ]
    },
    {
     "name": "stdout",
     "output_type": "stream",
     "text": [
      "\n",
      "################################################################################\n",
      "Exception occurred for: patient    Kidney-Penn-029\n",
      "volume            0.658486\n",
      "outcome          malignant\n",
      "age               0.581081\n",
      "sex                      1\n",
      "Name: Kidney-Penn-029, dtype: object\n",
      "[Errno 2] No such file or directory: '/data/intrepidlemon/renal/preprocessed/Kidney-Penn-029-T1C-imagingVolume.nrrd'\n",
      "Traceback (most recent call last):\n",
      "  File \"/home/user1/intrepidlemon/renal-mri/data.py\", line 279, in generate_from_features\n",
      "    t1_masked = load_image(t1_image_file, t1_seg_file, verbose=verbose)\n",
      "  File \"/home/user1/intrepidlemon/renal-mri/data.py\", line 240, in load_image\n",
      "    image, _ = nrrd.read(image_path)\n",
      "  File \"/home/user1/.local/share/virtualenvs/renal-mri-NanAjWL7/lib/python3.6/site-packages/nrrd/reader.py\", line 427, in read\n",
      "    with open(filename, 'rb') as fh:\n",
      "FileNotFoundError: [Errno 2] No such file or directory: '/data/intrepidlemon/renal/preprocessed/Kidney-Penn-029-T1C-imagingVolume.nrrd'\n",
      "\n"
     ]
    },
    {
     "name": "stderr",
     "output_type": "stream",
     "text": [
      " 82%|████████▏ | 77/94 [00:15<00:04,  4.03it/s]"
     ]
    },
    {
     "name": "stdout",
     "output_type": "stream",
     "text": [
      "\n",
      "################################################################################\n",
      "Exception occurred for: patient    Kidney-Penn-007\n",
      "volume            0.658458\n",
      "outcome             benign\n",
      "age               0.635135\n",
      "sex                      1\n",
      "Name: Kidney-Penn-007, dtype: object\n",
      "[Errno 2] No such file or directory: '/data/intrepidlemon/renal/preprocessed/Kidney-Penn-007-T1C-imagingVolume.nrrd'\n",
      "Traceback (most recent call last):\n",
      "  File \"/home/user1/intrepidlemon/renal-mri/data.py\", line 279, in generate_from_features\n",
      "    t1_masked = load_image(t1_image_file, t1_seg_file, verbose=verbose)\n",
      "  File \"/home/user1/intrepidlemon/renal-mri/data.py\", line 240, in load_image\n",
      "    image, _ = nrrd.read(image_path)\n",
      "  File \"/home/user1/.local/share/virtualenvs/renal-mri-NanAjWL7/lib/python3.6/site-packages/nrrd/reader.py\", line 427, in read\n",
      "    with open(filename, 'rb') as fh:\n",
      "FileNotFoundError: [Errno 2] No such file or directory: '/data/intrepidlemon/renal/preprocessed/Kidney-Penn-007-T1C-imagingVolume.nrrd'\n",
      "\n"
     ]
    },
    {
     "name": "stderr",
     "output_type": "stream",
     "text": [
      "100%|██████████| 94/94 [00:22<00:00,  1.95it/s]\n",
      "100%|██████████| 47/47 [00:08<00:00,  6.93it/s]\n",
      " 20%|█▉        | 65/332 [00:14<00:47,  5.58it/s]"
     ]
    },
    {
     "name": "stdout",
     "output_type": "stream",
     "text": [
      "\n",
      "################################################################################\n",
      "Exception occurred for: patient    Kidney-Penn-115\n",
      "volume            0.658593\n",
      "outcome          malignant\n",
      "age               0.594595\n",
      "sex                      0\n",
      "Name: Kidney-Penn-115, dtype: object\n",
      "[Errno 2] No such file or directory: '/data/intrepidlemon/renal/preprocessed/Kidney-Penn-115-T1C-imagingVolume.nrrd'\n",
      "Traceback (most recent call last):\n",
      "  File \"/home/user1/intrepidlemon/renal-mri/data.py\", line 279, in generate_from_features\n",
      "    t1_masked = load_image(t1_image_file, t1_seg_file, verbose=verbose)\n",
      "  File \"/home/user1/intrepidlemon/renal-mri/data.py\", line 240, in load_image\n",
      "    image, _ = nrrd.read(image_path)\n",
      "  File \"/home/user1/.local/share/virtualenvs/renal-mri-NanAjWL7/lib/python3.6/site-packages/nrrd/reader.py\", line 427, in read\n",
      "    with open(filename, 'rb') as fh:\n",
      "FileNotFoundError: [Errno 2] No such file or directory: '/data/intrepidlemon/renal/preprocessed/Kidney-Penn-115-T1C-imagingVolume.nrrd'\n",
      "\n"
     ]
    },
    {
     "name": "stderr",
     "output_type": "stream",
     "text": [
      " 35%|███▍      | 115/332 [00:25<01:22,  2.63it/s]"
     ]
    },
    {
     "name": "stdout",
     "output_type": "stream",
     "text": [
      "\n",
      "################################################################################\n",
      "Exception occurred for: patient    Kidney-Penn-153\n",
      "volume            0.658695\n",
      "outcome          malignant\n",
      "age               0.540541\n",
      "sex                      1\n",
      "Name: Kidney-Penn-153, dtype: object\n",
      "[Errno 2] No such file or directory: '/data/intrepidlemon/renal/preprocessed/Kidney-Penn-153-T1C-imagingVolume.nrrd'\n",
      "Traceback (most recent call last):\n",
      "  File \"/home/user1/intrepidlemon/renal-mri/data.py\", line 279, in generate_from_features\n",
      "    t1_masked = load_image(t1_image_file, t1_seg_file, verbose=verbose)\n",
      "  File \"/home/user1/intrepidlemon/renal-mri/data.py\", line 240, in load_image\n",
      "    image, _ = nrrd.read(image_path)\n",
      "  File \"/home/user1/.local/share/virtualenvs/renal-mri-NanAjWL7/lib/python3.6/site-packages/nrrd/reader.py\", line 427, in read\n",
      "    with open(filename, 'rb') as fh:\n",
      "FileNotFoundError: [Errno 2] No such file or directory: '/data/intrepidlemon/renal/preprocessed/Kidney-Penn-153-T1C-imagingVolume.nrrd'\n",
      "\n"
     ]
    },
    {
     "name": "stderr",
     "output_type": "stream",
     "text": [
      " 47%|████▋     | 157/332 [00:33<00:34,  5.03it/s]"
     ]
    },
    {
     "name": "stdout",
     "output_type": "stream",
     "text": [
      "\n",
      "################################################################################\n",
      "Exception occurred for: patient    Kidney-Penn-266\n",
      "volume            0.658453\n",
      "outcome          malignant\n",
      "age               0.567568\n",
      "sex                      1\n",
      "Name: Kidney-Penn-266, dtype: object\n",
      "[Errno 2] No such file or directory: '/data/intrepidlemon/renal/preprocessed/Kidney-Penn-266-T1C-imagingVolume.nrrd'\n",
      "Traceback (most recent call last):\n",
      "  File \"/home/user1/intrepidlemon/renal-mri/data.py\", line 279, in generate_from_features\n",
      "    t1_masked = load_image(t1_image_file, t1_seg_file, verbose=verbose)\n",
      "  File \"/home/user1/intrepidlemon/renal-mri/data.py\", line 240, in load_image\n",
      "    image, _ = nrrd.read(image_path)\n",
      "  File \"/home/user1/.local/share/virtualenvs/renal-mri-NanAjWL7/lib/python3.6/site-packages/nrrd/reader.py\", line 427, in read\n",
      "    with open(filename, 'rb') as fh:\n",
      "FileNotFoundError: [Errno 2] No such file or directory: '/data/intrepidlemon/renal/preprocessed/Kidney-Penn-266-T1C-imagingVolume.nrrd'\n",
      "\n"
     ]
    },
    {
     "name": "stderr",
     "output_type": "stream",
     "text": [
      " 92%|█████████▏| 304/332 [01:04<00:10,  2.68it/s]"
     ]
    },
    {
     "name": "stdout",
     "output_type": "stream",
     "text": [
      "\n",
      "################################################################################\n",
      "Exception occurred for: patient    Kidney-Penn-080\n",
      "volume            0.660122\n",
      "outcome             benign\n",
      "age               0.756757\n",
      "sex                      1\n",
      "Name: Kidney-Penn-080, dtype: object\n",
      "[Errno 2] No such file or directory: '/data/intrepidlemon/renal/preprocessed/Kidney-Penn-080-T1C-imagingVolume.nrrd'\n",
      "Traceback (most recent call last):\n",
      "  File \"/home/user1/intrepidlemon/renal-mri/data.py\", line 279, in generate_from_features\n",
      "    t1_masked = load_image(t1_image_file, t1_seg_file, verbose=verbose)\n",
      "  File \"/home/user1/intrepidlemon/renal-mri/data.py\", line 240, in load_image\n",
      "    image, _ = nrrd.read(image_path)\n",
      "  File \"/home/user1/.local/share/virtualenvs/renal-mri-NanAjWL7/lib/python3.6/site-packages/nrrd/reader.py\", line 427, in read\n",
      "    with open(filename, 'rb') as fh:\n",
      "FileNotFoundError: [Errno 2] No such file or directory: '/data/intrepidlemon/renal/preprocessed/Kidney-Penn-080-T1C-imagingVolume.nrrd'\n",
      "\n"
     ]
    },
    {
     "name": "stderr",
     "output_type": "stream",
     "text": [
      "100%|██████████| 332/332 [01:10<00:00,  4.74it/s]\n",
      " 56%|█████▋    | 53/94 [00:10<00:05,  7.42it/s]"
     ]
    },
    {
     "name": "stdout",
     "output_type": "stream",
     "text": [
      "\n",
      "################################################################################\n",
      "Exception occurred for: patient    Kidney-Penn-029\n",
      "volume            0.658486\n",
      "outcome          malignant\n",
      "age               0.581081\n",
      "sex                      1\n",
      "Name: Kidney-Penn-029, dtype: object\n",
      "[Errno 2] No such file or directory: '/data/intrepidlemon/renal/preprocessed/Kidney-Penn-029-T1C-imagingVolume.nrrd'\n",
      "Traceback (most recent call last):\n",
      "  File \"/home/user1/intrepidlemon/renal-mri/data.py\", line 279, in generate_from_features\n",
      "    t1_masked = load_image(t1_image_file, t1_seg_file, verbose=verbose)\n",
      "  File \"/home/user1/intrepidlemon/renal-mri/data.py\", line 240, in load_image\n",
      "    image, _ = nrrd.read(image_path)\n",
      "  File \"/home/user1/.local/share/virtualenvs/renal-mri-NanAjWL7/lib/python3.6/site-packages/nrrd/reader.py\", line 427, in read\n",
      "    with open(filename, 'rb') as fh:\n",
      "FileNotFoundError: [Errno 2] No such file or directory: '/data/intrepidlemon/renal/preprocessed/Kidney-Penn-029-T1C-imagingVolume.nrrd'\n",
      "\n"
     ]
    },
    {
     "name": "stderr",
     "output_type": "stream",
     "text": [
      " 82%|████████▏ | 77/94 [00:15<00:04,  4.20it/s]"
     ]
    },
    {
     "name": "stdout",
     "output_type": "stream",
     "text": [
      "\n",
      "################################################################################\n",
      "Exception occurred for: patient    Kidney-Penn-007\n",
      "volume            0.658458\n",
      "outcome             benign\n",
      "age               0.635135\n",
      "sex                      1\n",
      "Name: Kidney-Penn-007, dtype: object\n",
      "[Errno 2] No such file or directory: '/data/intrepidlemon/renal/preprocessed/Kidney-Penn-007-T1C-imagingVolume.nrrd'\n",
      "Traceback (most recent call last):\n",
      "  File \"/home/user1/intrepidlemon/renal-mri/data.py\", line 279, in generate_from_features\n",
      "    t1_masked = load_image(t1_image_file, t1_seg_file, verbose=verbose)\n",
      "  File \"/home/user1/intrepidlemon/renal-mri/data.py\", line 240, in load_image\n",
      "    image, _ = nrrd.read(image_path)\n",
      "  File \"/home/user1/.local/share/virtualenvs/renal-mri-NanAjWL7/lib/python3.6/site-packages/nrrd/reader.py\", line 427, in read\n",
      "    with open(filename, 'rb') as fh:\n",
      "FileNotFoundError: [Errno 2] No such file or directory: '/data/intrepidlemon/renal/preprocessed/Kidney-Penn-007-T1C-imagingVolume.nrrd'\n",
      "\n"
     ]
    },
    {
     "name": "stderr",
     "output_type": "stream",
     "text": [
      "100%|██████████| 94/94 [00:22<00:00,  1.95it/s]\n",
      "100%|██████████| 47/47 [00:08<00:00,  6.94it/s]\n"
     ]
    }
   ],
   "source": [
    "sd = stacked_data(uuids=models)"
   ]
  },
  {
   "cell_type": "code",
   "execution_count": 7,
   "metadata": {},
   "outputs": [],
   "source": [
    "train_set = np.array(list(zip(*sd[0])))\n",
    "validation_set = np.array(list(zip(*sd[1])))\n",
    "test_set = np.array(list(zip(*sd[2])))\n",
    "train_labels = np.array(sd[3])\n",
    "validation_labels = np.array(sd[4])\n",
    "test_labels = np.array(sd[5])\n",
    "train_fix_set = np.array(list(zip(*sd[6])))\n",
    "train_fix_labels = np.array(sd[7])"
   ]
  },
  {
   "cell_type": "code",
   "execution_count": 8,
   "metadata": {},
   "outputs": [],
   "source": [
    "CLASSIFIERS = [\n",
    "    ExtraTreesClassifier,\n",
    "    AdaBoostClassifier, \n",
    "    BaggingClassifier, \n",
    "    GradientBoostingClassifier, \n",
    "    RandomForestClassifier, \n",
    "]\n",
    "PARAMETERS = [\n",
    "    dict(max_leaf_nodes=5, max_depth=2), \n",
    "    dict(),   \n",
    "    dict(n_estimators=20, max_samples=0.1, max_features=1),\n",
    "    dict(),     \n",
    "    dict(),     \n",
    "]"
   ]
  },
  {
   "cell_type": "code",
   "execution_count": 1,
   "metadata": {},
   "outputs": [],
   "source": [
    "def score_accuracy(model, x, y): \n",
    "    return metrics.accuracy_score(y, model.predict(x))\n",
    "\n",
    "def score_roc_auc(model, x, y): \n",
    "    return metrics.roc_auc_score(y, model.predict_proba(x)[:,1])\n",
    "\n",
    "def score_specificity(model, x, y): \n",
    "    return metrics.precision_score(y, model.predict(x))\n",
    "\n",
    "def score_sensitivity(model, x, y): \n",
    "    return metrics.recall_score(y, model.predict(x))\n",
    "\n",
    "SCORES = {\n",
    "    \"accuracy\": score_accuracy, \n",
    "    \"roc_auc\": score_roc_auc, \n",
    "    \"specificity\": score_specificity,\n",
    "    \"sensitivity\": score_sensitivity,\n",
    "}"
   ]
  },
  {
   "cell_type": "code",
   "execution_count": 9,
   "metadata": {
    "scrolled": true
   },
   "outputs": [
    {
     "name": "stderr",
     "output_type": "stream",
     "text": [
      "100%|██████████| 1000/1000 [00:27<00:00, 37.08it/s]"
     ]
    },
    {
     "name": "stdout",
     "output_type": "stream",
     "text": [
      "0.8260869565217391\n",
      "BaggingClassifier(base_estimator=None, bootstrap=True,\n",
      "         bootstrap_features=False, max_features=1, max_samples=0.1,\n",
      "         n_estimators=20, n_jobs=None, oob_score=False, random_state=511,\n",
      "         verbose=0, warm_start=False)\n",
      "0.8260869565217391\n",
      "BaggingClassifier(base_estimator=None, bootstrap=True,\n",
      "         bootstrap_features=False, max_features=1, max_samples=0.1,\n",
      "         n_estimators=20, n_jobs=None, oob_score=False, random_state=511,\n",
      "         verbose=0, warm_start=False)\n"
     ]
    },
    {
     "name": "stderr",
     "output_type": "stream",
     "text": [
      "\n"
     ]
    }
   ],
   "source": [
    "best_acc = 0\n",
    "best_model = None\n",
    "for j, c in enumerate(CLASSIFIERS): \n",
    "    model_best = 0\n",
    "    model_acc = 0\n",
    "    for i in tqdm(range(1000)): \n",
    "        clf = c(random_state=i, **(PARAMETERS[j]))\n",
    "        clf.fit(train_set, train_labels)\n",
    "        score = SCORES[SCORE](clf, validation_set, validation_labels)\n",
    "        if score > best_acc:\n",
    "            best_acc = score\n",
    "            best_model = clf\n",
    "        if score > model_acc:\n",
    "            model_acc = score\n",
    "            model_best = clf\n",
    "    print(model_acc)\n",
    "    print(model_best)\n",
    "    print(best_acc)\n",
    "    print(best_model)"
   ]
  },
  {
   "cell_type": "code",
   "execution_count": 10,
   "metadata": {
    "scrolled": true
   },
   "outputs": [
    {
     "name": "stdout",
     "output_type": "stream",
     "text": [
      "train accuracy: 0.926829268292683\n",
      "validation accuracy: 0.8260869565217391\n",
      "test accuracy: 0.8723404255319149\n"
     ]
    }
   ],
   "source": [
    "print(\"train accuracy: {}\".format(best_model.score(train_fix_set, train_fix_labels)))\n",
    "print(\"validation accuracy: {}\".format(best_model.score(validation_set, validation_labels)))\n",
    "print(\"test accuracy: {}\".format(best_model.score(test_set, test_labels)))"
   ]
  },
  {
   "cell_type": "code",
   "execution_count": 11,
   "metadata": {},
   "outputs": [
    {
     "data": {
      "text/plain": [
       "BaggingClassifier(base_estimator=None, bootstrap=True,\n",
       "         bootstrap_features=False, max_features=1, max_samples=0.1,\n",
       "         n_estimators=20, n_jobs=None, oob_score=False, random_state=511,\n",
       "         verbose=0, warm_start=False)"
      ]
     },
     "execution_count": 11,
     "metadata": {},
     "output_type": "execute_result"
    }
   ],
   "source": [
    "best_model"
   ]
  },
  {
   "cell_type": "code",
   "execution_count": 14,
   "metadata": {},
   "outputs": [],
   "source": [
    "def evaluation(name, dataset, labels): \n",
    "    model = best_model\n",
    "    predictions = model.predict(dataset)\n",
    "    probabilities = model.predict_proba(dataset)\n",
    "    pm.record(\"{}_labels\".format(name), list(labels))\n",
    "    pm.record(\"{}_probabilities\".format(name), list(probabilities[:,1]))\n",
    "    pm.record(\"{}_predictions\".format(name), list(predictions))\n",
    "    print(\"accuracy: {}\".format(metrics.accuracy_score(labels, predictions)))\n",
    "    fig = plot_confusion_matrix_ensemble(labels, predictions, [\"benign\", \"malignant\"])\n",
    "    fig.savefig(\"figures/ensemble-{}-confusion-matrix.svg\".format(name), bbox_inches = \"tight\")\n",
    "    fig.show()\n",
    "    print(pandas.DataFrame(calculate_confusion_matrix_stats(labels, probabilities[:,1])))\n",
    "    fig = plot_roc_curve(labels, probabilities[:,1])\n",
    "    fig.savefig(\"figures/ensemble-{}-roc-curve.svg\".format(name), bbox_inches = \"tight\")\n",
    "    fig.show()\n",
    "    fig = plot_precision_recall(labels, probabilities[:,1])\n",
    "    fig.savefig(\"figures/ensemble-{}-precisionrecall.svg\".format(name), bbox_inches = \"tight\")\n",
    "    fig.show()"
   ]
  },
  {
   "cell_type": "markdown",
   "metadata": {},
   "source": [
    "# Training"
   ]
  },
  {
   "cell_type": "code",
   "execution_count": 15,
   "metadata": {},
   "outputs": [
    {
     "data": {},
     "metadata": {},
     "output_type": "display_data"
    },
    {
     "data": {},
     "metadata": {},
     "output_type": "display_data"
    },
    {
     "data": {},
     "metadata": {},
     "output_type": "display_data"
    },
    {
     "name": "stderr",
     "output_type": "stream",
     "text": [
      "No handles with labels found to put in legend.\n"
     ]
    },
    {
     "name": "stdout",
     "output_type": "stream",
     "text": [
      "accuracy: 0.926829268292683\n",
      "        Acc   TP   TN  FP  FN       TPR       TNR       PPV       NPV  \\\n",
      "0  0.926829   53  251   6  18  0.746479  0.976654  0.898305  0.933086   \n",
      "1  0.926829  251   53  18   6  0.976654  0.746479  0.933086  0.898305   \n",
      "\n",
      "        FPR       FNR       FDR        AM        GM  \n",
      "0  0.023346  0.253521  0.101695  0.861566  0.853845  \n",
      "1  0.253521  0.023346  0.066914  0.861566  0.853845  \n"
     ]
    },
    {
     "data": {
      "image/png": "[encoded data removed]",
      "text/plain": [
       "<Figure size 432x288 with 2 Axes>"
      ]
     },
     "metadata": {},
     "output_type": "display_data"
    },
    {
     "data": {
      "image/png": "[encoded data removed]",
      "text/plain": [
       "<Figure size 432x288 with 1 Axes>"
      ]
     },
     "metadata": {},
     "output_type": "display_data"
    },
    {
     "data": {
      "image/png": "[encoded data removed]",
      "text/plain": [
       "<Figure size 432x288 with 1 Axes>"
      ]
     },
     "metadata": {},
     "output_type": "display_data"
    }
   ],
   "source": [
    "evaluation(\"train\", train_fix_set, train_fix_labels)"
   ]
  },
  {
   "cell_type": "markdown",
   "metadata": {},
   "source": [
    "# Validation"
   ]
  },
  {
   "cell_type": "code",
   "execution_count": 16,
   "metadata": {},
   "outputs": [
    {
     "data": {},
     "metadata": {},
     "output_type": "display_data"
    },
    {
     "data": {},
     "metadata": {},
     "output_type": "display_data"
    },
    {
     "data": {},
     "metadata": {},
     "output_type": "display_data"
    },
    {
     "name": "stderr",
     "output_type": "stream",
     "text": [
      "No handles with labels found to put in legend.\n"
     ]
    },
    {
     "name": "stdout",
     "output_type": "stream",
     "text": [
      "accuracy: 0.8260869565217391\n",
      "        Acc  TP  TN  FP  FN       TPR       TNR       PPV       NPV       FPR  \\\n",
      "0  0.826087   4  72   1  15  0.210526  0.986301  0.800000  0.827586  0.013699   \n",
      "1  0.826087  72   4  15   1  0.986301  0.210526  0.827586  0.800000  0.789474   \n",
      "\n",
      "        FNR       FDR        AM        GM  \n",
      "0  0.789474  0.200000  0.598414  0.455678  \n",
      "1  0.013699  0.172414  0.598414  0.455678  \n"
     ]
    },
    {
     "data": {
      "image/png": "[encoded data removed]",
      "text/plain": [
       "<Figure size 432x288 with 2 Axes>"
      ]
     },
     "metadata": {},
     "output_type": "display_data"
    },
    {
     "data": {
      "image/png": "[encoded data removed]",
      "text/plain": [
       "<Figure size 432x288 with 1 Axes>"
      ]
     },
     "metadata": {},
     "output_type": "display_data"
    },
    {
     "data": {
      "image/png": "[encoded data removed]",
      "text/plain": [
       "<Figure size 432x288 with 1 Axes>"
      ]
     },
     "metadata": {},
     "output_type": "display_data"
    }
   ],
   "source": [
    "evaluation(\"validation\", validation_set, validation_labels)"
   ]
  },
  {
   "cell_type": "markdown",
   "metadata": {},
   "source": [
    "# Test"
   ]
  },
  {
   "cell_type": "code",
   "execution_count": 17,
   "metadata": {},
   "outputs": [
    {
     "data": {},
     "metadata": {},
     "output_type": "display_data"
    },
    {
     "data": {},
     "metadata": {},
     "output_type": "display_data"
    },
    {
     "data": {},
     "metadata": {},
     "output_type": "display_data"
    },
    {
     "name": "stderr",
     "output_type": "stream",
     "text": [
      "No handles with labels found to put in legend.\n"
     ]
    },
    {
     "name": "stdout",
     "output_type": "stream",
     "text": [
      "accuracy: 0.8723404255319149\n",
      "       Acc  TP  TN  FP  FN  TPR  TNR       PPV       NPV  FPR  FNR       FDR  \\\n",
      "0  0.87234   4  37   0   6  0.4  1.0  1.000000  0.860465  0.0  0.6  0.000000   \n",
      "1  0.87234  37   4   6   0  1.0  0.4  0.860465  1.000000  0.6  0.0  0.139535   \n",
      "\n",
      "    AM        GM  \n",
      "0  0.7  0.632456  \n",
      "1  0.7  0.632456  \n"
     ]
    },
    {
     "data": {
      "image/png": "[encoded data removed]",
      "text/plain": [
       "<Figure size 432x288 with 2 Axes>"
      ]
     },
     "metadata": {},
     "output_type": "display_data"
    },
    {
     "data": {
      "image/png": "[encoded data removed]",
      "text/plain": [
       "<Figure size 432x288 with 1 Axes>"
      ]
     },
     "metadata": {},
     "output_type": "display_data"
    },
    {
     "data": {
      "image/png": "[encoded data removed]",
      "text/plain": [
       "<Figure size 432x288 with 1 Axes>"
      ]
     },
     "metadata": {},
     "output_type": "display_data"
    }
   ],
   "source": [
    "evaluation(\"test\", test_set, test_labels)"
   ]
  },
  {
   "cell_type": "code",
   "execution_count": 23,
   "metadata": {
    "scrolled": false
   },
   "outputs": [
    {
     "data": {},
     "metadata": {},
     "output_type": "display_data"
    },
    {
     "data": {},
     "metadata": {},
     "output_type": "display_data"
    },
    {
     "data": {},
     "metadata": {},
     "output_type": "display_data"
    },
    {
     "name": "stdout",
     "output_type": "stream",
     "text": [
      "accuracy: 0.7659574468085106\n"
     ]
    },
    {
     "name": "stderr",
     "output_type": "stream",
     "text": [
      "No handles with labels found to put in legend.\n"
     ]
    },
    {
     "name": "stdout",
     "output_type": "stream",
     "text": [
      "        Acc  TP  TN  FP  FN       TPR       TNR       PPV       NPV       FPR  \\\n",
      "0  0.765957   1  35   2   9  0.100000  0.945946  0.333333  0.795455  0.054054   \n",
      "1  0.765957  35   1   9   2  0.945946  0.100000  0.795455  0.333333  0.900000   \n",
      "\n",
      "        FNR       FDR        AM        GM  \n",
      "0  0.900000  0.666667  0.522973  0.307562  \n",
      "1  0.054054  0.204545  0.522973  0.307562  \n"
     ]
    },
    {
     "data": {},
     "metadata": {},
     "output_type": "display_data"
    },
    {
     "data": {},
     "metadata": {},
     "output_type": "display_data"
    },
    {
     "data": {},
     "metadata": {},
     "output_type": "display_data"
    },
    {
     "name": "stderr",
     "output_type": "stream",
     "text": [
      "/home/user1/intrepidlemon/renal-mri/evaluate.py:85: RuntimeWarning: invalid value encountered in true_divide\n",
      "  PPV = TP/(TP+FP)\n",
      "/home/user1/intrepidlemon/renal-mri/evaluate.py:87: RuntimeWarning: invalid value encountered in true_divide\n",
      "  NPV = TN/(TN+FN)\n",
      "/home/user1/intrepidlemon/renal-mri/evaluate.py:93: RuntimeWarning: invalid value encountered in true_divide\n",
      "  FDR = FP/(TP+FP)\n",
      "No handles with labels found to put in legend.\n"
     ]
    },
    {
     "name": "stdout",
     "output_type": "stream",
     "text": [
      "accuracy: 0.7872340425531915\n",
      "        Acc  TP  TN  FP  FN  TPR  TNR       PPV       NPV  FPR  FNR       FDR  \\\n",
      "0  0.787234   0  37   0  10  0.0  1.0       NaN  0.787234  0.0  1.0       NaN   \n",
      "1  0.787234  37   0  10   0  1.0  0.0  0.787234       NaN  1.0  0.0  0.212766   \n",
      "\n",
      "    AM   GM  \n",
      "0  0.5  0.0  \n",
      "1  0.5  0.0  \n"
     ]
    },
    {
     "name": "stderr",
     "output_type": "stream",
     "text": [
      "/home/user1/intrepidlemon/renal-mri/evaluate.py:85: RuntimeWarning: invalid value encountered in true_divide\n",
      "  PPV = TP/(TP+FP)\n",
      "/home/user1/intrepidlemon/renal-mri/evaluate.py:87: RuntimeWarning: invalid value encountered in true_divide\n",
      "  NPV = TN/(TN+FN)\n",
      "/home/user1/intrepidlemon/renal-mri/evaluate.py:93: RuntimeWarning: invalid value encountered in true_divide\n",
      "  FDR = FP/(TP+FP)\n"
     ]
    },
    {
     "data": {
      "image/png": "[encoded data removed]",
      "text/plain": [
       "<Figure size 432x288 with 2 Axes>"
      ]
     },
     "metadata": {},
     "output_type": "display_data"
    },
    {
     "data": {
      "image/png": "[encoded data removed]",
      "text/plain": [
       "<Figure size 432x288 with 1 Axes>"
      ]
     },
     "metadata": {},
     "output_type": "display_data"
    },
    {
     "data": {
      "image/png": "[encoded data removed]",
      "text/plain": [
       "<Figure size 432x288 with 1 Axes>"
      ]
     },
     "metadata": {},
     "output_type": "display_data"
    },
    {
     "data": {
      "image/png": "[encoded data removed]",
      "text/plain": [
       "<Figure size 432x288 with 2 Axes>"
      ]
     },
     "metadata": {},
     "output_type": "display_data"
    },
    {
     "data": {
      "image/png": "[encoded data removed]",
      "text/plain": [
       "<Figure size 432x288 with 1 Axes>"
      ]
     },
     "metadata": {},
     "output_type": "display_data"
    },
    {
     "data": {
      "image/png": "[encoded data removed]",
      "text/plain": [
       "<Figure size 432x288 with 1 Axes>"
      ]
     },
     "metadata": {},
     "output_type": "display_data"
    }
   ],
   "source": [
    "evaluation(\"test-1\", test_1_set, test_1_labels)\n",
    "evaluation(\"test-2\", test_2_set, test_2_labels)"
   ]
  },
  {
   "cell_type": "code",
   "execution_count": 19,
   "metadata": {},
   "outputs": [
    {
     "data": {
      "text/html": [
       "<script>\n",
       "code_show=true; \n",
       "function code_toggle() {\n",
       " if (code_show){\n",
       " $('div.input').hide();\n",
       " } else {\n",
       " $('div.input').show();\n",
       " }\n",
       " code_show = !code_show\n",
       "} \n",
       "$( document ).ready(code_toggle);\n",
       "</script>\n",
       "The raw code for this IPython notebook is by default hidden for easier reading.\n",
       "To toggle on/off the raw code, click <a href=\"javascript:code_toggle()\">here</a>."
      ],
      "text/plain": [
       "<IPython.core.display.HTML object>"
      ]
     },
     "execution_count": 19,
     "metadata": {},
     "output_type": "execute_result"
    }
   ],
   "source": [
    "from IPython.display import HTML\n",
    "HTML('''<script>\n",
    "code_show=true; \n",
    "function code_toggle() {\n",
    " if (code_show){\n",
    " $('div.input').hide();\n",
    " } else {\n",
    " $('div.input').show();\n",
    " }\n",
    " code_show = !code_show\n",
    "} \n",
    "$( document ).ready(code_toggle);\n",
    "</script>\n",
    "The raw code for this IPython notebook is by default hidden for easier reading.\n",
    "To toggle on/off the raw code, click <a href=\"javascript:code_toggle()\">here</a>.''')"
   ]
  },
  {
   "cell_type": "code",
   "execution_count": null,
   "metadata": {},
   "outputs": [],
   "source": []
  },
  {
   "cell_type": "code",
   "execution_count": null,
   "metadata": {},
   "outputs": [],
   "source": []
  },
  {
   "cell_type": "code",
   "execution_count": null,
   "metadata": {},
   "outputs": [],
   "source": []
  },
  {
   "cell_type": "code",
   "execution_count": null,
   "metadata": {},
   "outputs": [],
   "source": []
  }
 ],
 "metadata": {
  "kernelspec": {
   "display_name": "Python 3",
   "language": "python",
   "name": "python3"
  },
  "language_info": {
   "codemirror_mode": {
    "name": "ipython",
    "version": 3
   },
   "file_extension": ".py",
   "mimetype": "text/x-python",
   "name": "python",
   "nbconvert_exporter": "python",
   "pygments_lexer": "ipython3",
   "version": "3.6.9"
  }
 },
 "nbformat": 4,
 "nbformat_minor": 2
}
